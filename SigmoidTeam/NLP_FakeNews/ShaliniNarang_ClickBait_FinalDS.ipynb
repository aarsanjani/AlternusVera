{
  "nbformat": 4,
  "nbformat_minor": 0,
  "metadata": {
    "colab": {
      "name": "ShaliniNarang_ClickBait_FinalDS.ipynb",
      "version": "0.3.2",
      "provenance": [],
      "collapsed_sections": []
    },
    "kernelspec": {
      "name": "python3",
      "display_name": "Python 3"
    }
  },
  "cells": [
    {
      "metadata": {
        "id": "yVkdfXgeVIN6",
        "colab_type": "text"
      },
      "cell_type": "markdown",
      "source": [
        "# Project: Alternus Vera\n",
        "## Team: Sigmoid\n",
        "## Submitted by: Shalini Narang\n",
        "## Individual Component - Click Bait Analysis\n"
      ]
    },
    {
      "metadata": {
        "id": "LqpPfpT9LaB0",
        "colab_type": "text"
      },
      "cell_type": "markdown",
      "source": [
        "\n",
        "\n",
        "##Abstract\n",
        "Fake news is a kind of yellow jounalism or a propoganda that is spread via digital media for the benefit of a few. To attract people to click a fake digital content, it has been observed that the title of the article is made attractive, so that the user gets lured just like a fish gets lured to a bait. These title's are known as Clickbaits and its sole intention is to lure humans to websites.\n",
        "\n",
        "Click-bait has been very creatively depicted in the following image posted in the blog - https://www.theodysseyonline.com/the-art-of-click-bait\n",
        "\n",
        "<img src=\"https://s3-us-west-2.amazonaws.com/themodestwhite.com/cb.png\"/>\n",
        "\n",
        "As seen in the image,we find people suggesting not to click on these sites. But for an average user it is quite difficult to identify a clickbait. Facebook understood the sevearity of the problem and started a project to weed out clickbaits from its website.\n",
        "\n",
        "While working on the project Alternus Vera, our team realized that the title of an article is also very important factor in judging if the digital content is fake or not. By the means of this individual component I have tried to identify if the title is click bait or not.\n",
        "\n",
        "\n",
        "\n",
        "\n"
      ]
    },
    {
      "metadata": {
        "id": "dDG_NFjQVZ4x",
        "colab_type": "text"
      },
      "cell_type": "markdown",
      "source": [
        "## Approach\n",
        "\n",
        "Following flowchart depicts our approach for the click bait analysis. \n",
        "\n",
        "<img src=\"https://s3-us-west-2.amazonaws.com/themodestwhite.com/ml+pro.jpg\">\n",
        "\n",
        "\n",
        "Once we have applied algorithms we will use the click bait score to finally use in finding if the news is fake or not"
      ]
    },
    {
      "metadata": {
        "id": "IONkBpfOV6tR",
        "colab_type": "text"
      },
      "cell_type": "markdown",
      "source": [
        "##Implementation"
      ]
    },
    {
      "metadata": {
        "id": "DfOG1SyYWEWI",
        "colab_type": "text"
      },
      "cell_type": "markdown",
      "source": [
        "####Import/Download all packages/libraries required for the project"
      ]
    },
    {
      "metadata": {
        "id": "QL6hDfrP1Yaf",
        "colab_type": "code",
        "outputId": "f5d8b870-b8f8-4415-fee0-ef80838f69d3",
        "colab": {
          "base_uri": "https://localhost:8080/",
          "height": 833
        }
      },
      "cell_type": "code",
      "source": [
        "##https://https://s3-us-west-2.amazonaws.com/themodestwhite.com/fake_real_dataset_spam_category.csv\n",
        "import pandas as pd\n",
        "import numpy as np\n",
        "import nltk\n",
        "nltk.download(\"popular\")\n",
        "import re\n",
        "import string\n",
        "from nltk.corpus import stopwords\n",
        "\n",
        "import seaborn as sns\n",
        "import matplotlib.pyplot as mp\n",
        "%matplotlib inline\n"
      ],
      "execution_count": 0,
      "outputs": [
        {
          "output_type": "stream",
          "text": [
            "[nltk_data] Downloading collection 'popular'\n",
            "[nltk_data]    | \n",
            "[nltk_data]    | Downloading package cmudict to /root/nltk_data...\n",
            "[nltk_data]    |   Package cmudict is already up-to-date!\n",
            "[nltk_data]    | Downloading package gazetteers to /root/nltk_data...\n",
            "[nltk_data]    |   Package gazetteers is already up-to-date!\n",
            "[nltk_data]    | Downloading package genesis to /root/nltk_data...\n",
            "[nltk_data]    |   Package genesis is already up-to-date!\n",
            "[nltk_data]    | Downloading package gutenberg to /root/nltk_data...\n",
            "[nltk_data]    |   Package gutenberg is already up-to-date!\n",
            "[nltk_data]    | Downloading package inaugural to /root/nltk_data...\n",
            "[nltk_data]    |   Package inaugural is already up-to-date!\n",
            "[nltk_data]    | Downloading package movie_reviews to\n",
            "[nltk_data]    |     /root/nltk_data...\n",
            "[nltk_data]    |   Package movie_reviews is already up-to-date!\n",
            "[nltk_data]    | Downloading package names to /root/nltk_data...\n",
            "[nltk_data]    |   Package names is already up-to-date!\n",
            "[nltk_data]    | Downloading package shakespeare to /root/nltk_data...\n",
            "[nltk_data]    |   Package shakespeare is already up-to-date!\n",
            "[nltk_data]    | Downloading package stopwords to /root/nltk_data...\n",
            "[nltk_data]    |   Package stopwords is already up-to-date!\n",
            "[nltk_data]    | Downloading package treebank to /root/nltk_data...\n",
            "[nltk_data]    |   Package treebank is already up-to-date!\n",
            "[nltk_data]    | Downloading package twitter_samples to\n",
            "[nltk_data]    |     /root/nltk_data...\n",
            "[nltk_data]    |   Package twitter_samples is already up-to-date!\n",
            "[nltk_data]    | Downloading package omw to /root/nltk_data...\n",
            "[nltk_data]    |   Package omw is already up-to-date!\n",
            "[nltk_data]    | Downloading package wordnet to /root/nltk_data...\n",
            "[nltk_data]    |   Package wordnet is already up-to-date!\n",
            "[nltk_data]    | Downloading package wordnet_ic to /root/nltk_data...\n",
            "[nltk_data]    |   Package wordnet_ic is already up-to-date!\n",
            "[nltk_data]    | Downloading package words to /root/nltk_data...\n",
            "[nltk_data]    |   Package words is already up-to-date!\n",
            "[nltk_data]    | Downloading package maxent_ne_chunker to\n",
            "[nltk_data]    |     /root/nltk_data...\n",
            "[nltk_data]    |   Package maxent_ne_chunker is already up-to-date!\n",
            "[nltk_data]    | Downloading package punkt to /root/nltk_data...\n",
            "[nltk_data]    |   Package punkt is already up-to-date!\n",
            "[nltk_data]    | Downloading package snowball_data to\n",
            "[nltk_data]    |     /root/nltk_data...\n",
            "[nltk_data]    |   Package snowball_data is already up-to-date!\n",
            "[nltk_data]    | Downloading package averaged_perceptron_tagger to\n",
            "[nltk_data]    |     /root/nltk_data...\n",
            "[nltk_data]    |   Package averaged_perceptron_tagger is already up-\n",
            "[nltk_data]    |       to-date!\n",
            "[nltk_data]    | \n",
            "[nltk_data]  Done downloading collection popular\n"
          ],
          "name": "stdout"
        }
      ]
    },
    {
      "metadata": {
        "id": "69A__w7_1amF",
        "colab_type": "text"
      },
      "cell_type": "markdown",
      "source": [
        "####Read the tsv file, keep only title column from the dataset and add new columns required for the component"
      ]
    },
    {
      "metadata": {
        "id": "JGkrkFUS1vwl",
        "colab_type": "code",
        "outputId": "dedeffd5-f073-40a1-e419-42aa8d284add",
        "colab": {
          "base_uri": "https://localhost:8080/",
          "height": 644
        }
      },
      "cell_type": "code",
      "source": [
        "df = pd.read_csv('https://s3-us-west-2.amazonaws.com/themodestwhite.com/fake_real_dataset_spam_category.csv')\n",
        "df.head()"
      ],
      "execution_count": 0,
      "outputs": [
        {
          "output_type": "execute_result",
          "data": {
            "text/html": [
              "<div>\n",
              "<style scoped>\n",
              "    .dataframe tbody tr th:only-of-type {\n",
              "        vertical-align: middle;\n",
              "    }\n",
              "\n",
              "    .dataframe tbody tr th {\n",
              "        vertical-align: top;\n",
              "    }\n",
              "\n",
              "    .dataframe thead th {\n",
              "        text-align: right;\n",
              "    }\n",
              "</style>\n",
              "<table border=\"1\" class=\"dataframe\">\n",
              "  <thead>\n",
              "    <tr style=\"text-align: right;\">\n",
              "      <th></th>\n",
              "      <th>Unnamed: 0</th>\n",
              "      <th>Unnamed: 0.1</th>\n",
              "      <th>uuid</th>\n",
              "      <th>ord_in_thread</th>\n",
              "      <th>author</th>\n",
              "      <th>published</th>\n",
              "      <th>title</th>\n",
              "      <th>text</th>\n",
              "      <th>language</th>\n",
              "      <th>crawled</th>\n",
              "      <th>...</th>\n",
              "      <th>main_img_url</th>\n",
              "      <th>replies_count</th>\n",
              "      <th>participants_count</th>\n",
              "      <th>likes</th>\n",
              "      <th>comments</th>\n",
              "      <th>shares</th>\n",
              "      <th>type</th>\n",
              "      <th>content</th>\n",
              "      <th>spam_score_fector</th>\n",
              "      <th>category_fector</th>\n",
              "    </tr>\n",
              "  </thead>\n",
              "  <tbody>\n",
              "    <tr>\n",
              "      <th>0</th>\n",
              "      <td>0</td>\n",
              "      <td>0</td>\n",
              "      <td>6a175f46bcd24d39b3e962ad0f29936721db70db</td>\n",
              "      <td>0</td>\n",
              "      <td>Barracuda Brigade</td>\n",
              "      <td>2016-10-26T21:41:00.000+03:00</td>\n",
              "      <td>Muslims BUSTED: They Stole Millions In Gov‚Äôt...</td>\n",
              "      <td>Print They should pay all the back all the mon...</td>\n",
              "      <td>english</td>\n",
              "      <td>2016-10-27T01:49:27.168+03:00</td>\n",
              "      <td>...</td>\n",
              "      <td>http://bb4sp.com/wp-content/uploads/2016/10/Fu...</td>\n",
              "      <td>0</td>\n",
              "      <td>1</td>\n",
              "      <td>0</td>\n",
              "      <td>0</td>\n",
              "      <td>0</td>\n",
              "      <td>bias</td>\n",
              "      <td>Print They should pay all the back all the mon...</td>\n",
              "      <td>0.993337</td>\n",
              "      <td>business</td>\n",
              "    </tr>\n",
              "    <tr>\n",
              "      <th>1</th>\n",
              "      <td>1</td>\n",
              "      <td>1</td>\n",
              "      <td>2bdc29d12605ef9cf3f09f9875040a7113be5d5b</td>\n",
              "      <td>0</td>\n",
              "      <td>reasoning with facts</td>\n",
              "      <td>2016-10-29T08:47:11.259+03:00</td>\n",
              "      <td>Re: Why Did Attorney General Loretta Lynch Ple...</td>\n",
              "      <td>Why Did Attorney General Loretta Lynch Plead T...</td>\n",
              "      <td>english</td>\n",
              "      <td>2016-10-29T08:47:11.259+03:00</td>\n",
              "      <td>...</td>\n",
              "      <td>http://bb4sp.com/wp-content/uploads/2016/10/Fu...</td>\n",
              "      <td>0</td>\n",
              "      <td>1</td>\n",
              "      <td>0</td>\n",
              "      <td>0</td>\n",
              "      <td>0</td>\n",
              "      <td>bias</td>\n",
              "      <td>Why Did Attorney General Loretta Lynch Plead T...</td>\n",
              "      <td>0.824470</td>\n",
              "      <td>business</td>\n",
              "    </tr>\n",
              "    <tr>\n",
              "      <th>2</th>\n",
              "      <td>2</td>\n",
              "      <td>2</td>\n",
              "      <td>c70e149fdd53de5e61c29281100b9de0ed268bc3</td>\n",
              "      <td>0</td>\n",
              "      <td>Barracuda Brigade</td>\n",
              "      <td>2016-10-31T01:41:49.479+02:00</td>\n",
              "      <td>BREAKING: Weiner Cooperating With FBI On Hilla...</td>\n",
              "      <td>Red State : \\r\\nFox News Sunday reported this ...</td>\n",
              "      <td>english</td>\n",
              "      <td>2016-10-31T01:41:49.479+02:00</td>\n",
              "      <td>...</td>\n",
              "      <td>http://bb4sp.com/wp-content/uploads/2016/10/Fu...</td>\n",
              "      <td>0</td>\n",
              "      <td>1</td>\n",
              "      <td>0</td>\n",
              "      <td>0</td>\n",
              "      <td>0</td>\n",
              "      <td>bias</td>\n",
              "      <td>Red State : \\r\\nFox News Sunday reported this ...</td>\n",
              "      <td>0.998415</td>\n",
              "      <td>business</td>\n",
              "    </tr>\n",
              "    <tr>\n",
              "      <th>3</th>\n",
              "      <td>3</td>\n",
              "      <td>3</td>\n",
              "      <td>7cf7c15731ac2a116dd7f629bd57ea468ed70284</td>\n",
              "      <td>0</td>\n",
              "      <td>Fed Up</td>\n",
              "      <td>2016-11-01T05:22:00.000+02:00</td>\n",
              "      <td>PIN DROP SPEECH BY FATHER OF DAUGHTER Kidnappe...</td>\n",
              "      <td>Email Kayla Mueller was a prisoner and torture...</td>\n",
              "      <td>english</td>\n",
              "      <td>2016-11-01T15:46:26.304+02:00</td>\n",
              "      <td>...</td>\n",
              "      <td>http://100percentfedup.com/wp-content/uploads/...</td>\n",
              "      <td>0</td>\n",
              "      <td>0</td>\n",
              "      <td>0</td>\n",
              "      <td>0</td>\n",
              "      <td>0</td>\n",
              "      <td>bias</td>\n",
              "      <td>Email Kayla Mueller was a prisoner and torture...</td>\n",
              "      <td>0.982233</td>\n",
              "      <td>sport</td>\n",
              "    </tr>\n",
              "    <tr>\n",
              "      <th>4</th>\n",
              "      <td>4</td>\n",
              "      <td>4</td>\n",
              "      <td>0206b54719c7e241ffe0ad4315b808290dbe6c0f</td>\n",
              "      <td>0</td>\n",
              "      <td>Fed Up</td>\n",
              "      <td>2016-11-01T21:56:00.000+02:00</td>\n",
              "      <td>FANTASTIC! TRUMP'S 7 POINT PLAN To Reform Heal...</td>\n",
              "      <td>Email HEALTHCARE REFORM TO MAKE AMERICA GREAT ...</td>\n",
              "      <td>english</td>\n",
              "      <td>2016-11-01T23:59:42.266+02:00</td>\n",
              "      <td>...</td>\n",
              "      <td>http://100percentfedup.com/wp-content/uploads/...</td>\n",
              "      <td>0</td>\n",
              "      <td>0</td>\n",
              "      <td>0</td>\n",
              "      <td>0</td>\n",
              "      <td>0</td>\n",
              "      <td>bias</td>\n",
              "      <td>Email HEALTHCARE REFORM TO MAKE AMERICA GREAT ...</td>\n",
              "      <td>0.976653</td>\n",
              "      <td>business</td>\n",
              "    </tr>\n",
              "  </tbody>\n",
              "</table>\n",
              "<p>5 rows × 25 columns</p>\n",
              "</div>"
            ],
            "text/plain": [
              "   Unnamed: 0  Unnamed: 0.1                                      uuid  \\\n",
              "0           0             0  6a175f46bcd24d39b3e962ad0f29936721db70db   \n",
              "1           1             1  2bdc29d12605ef9cf3f09f9875040a7113be5d5b   \n",
              "2           2             2  c70e149fdd53de5e61c29281100b9de0ed268bc3   \n",
              "3           3             3  7cf7c15731ac2a116dd7f629bd57ea468ed70284   \n",
              "4           4             4  0206b54719c7e241ffe0ad4315b808290dbe6c0f   \n",
              "\n",
              "   ord_in_thread                author                      published  \\\n",
              "0              0     Barracuda Brigade  2016-10-26T21:41:00.000+03:00   \n",
              "1              0  reasoning with facts  2016-10-29T08:47:11.259+03:00   \n",
              "2              0     Barracuda Brigade  2016-10-31T01:41:49.479+02:00   \n",
              "3              0                Fed Up  2016-11-01T05:22:00.000+02:00   \n",
              "4              0                Fed Up  2016-11-01T21:56:00.000+02:00   \n",
              "\n",
              "                                               title  \\\n",
              "0  Muslims BUSTED: They Stole Millions In Gov‚Äôt...   \n",
              "1  Re: Why Did Attorney General Loretta Lynch Ple...   \n",
              "2  BREAKING: Weiner Cooperating With FBI On Hilla...   \n",
              "3  PIN DROP SPEECH BY FATHER OF DAUGHTER Kidnappe...   \n",
              "4  FANTASTIC! TRUMP'S 7 POINT PLAN To Reform Heal...   \n",
              "\n",
              "                                                text language  \\\n",
              "0  Print They should pay all the back all the mon...  english   \n",
              "1  Why Did Attorney General Loretta Lynch Plead T...  english   \n",
              "2  Red State : \\r\\nFox News Sunday reported this ...  english   \n",
              "3  Email Kayla Mueller was a prisoner and torture...  english   \n",
              "4  Email HEALTHCARE REFORM TO MAKE AMERICA GREAT ...  english   \n",
              "\n",
              "                         crawled       ...         \\\n",
              "0  2016-10-27T01:49:27.168+03:00       ...          \n",
              "1  2016-10-29T08:47:11.259+03:00       ...          \n",
              "2  2016-10-31T01:41:49.479+02:00       ...          \n",
              "3  2016-11-01T15:46:26.304+02:00       ...          \n",
              "4  2016-11-01T23:59:42.266+02:00       ...          \n",
              "\n",
              "                                        main_img_url replies_count  \\\n",
              "0  http://bb4sp.com/wp-content/uploads/2016/10/Fu...             0   \n",
              "1  http://bb4sp.com/wp-content/uploads/2016/10/Fu...             0   \n",
              "2  http://bb4sp.com/wp-content/uploads/2016/10/Fu...             0   \n",
              "3  http://100percentfedup.com/wp-content/uploads/...             0   \n",
              "4  http://100percentfedup.com/wp-content/uploads/...             0   \n",
              "\n",
              "   participants_count likes  comments shares  type  \\\n",
              "0                   1     0         0      0  bias   \n",
              "1                   1     0         0      0  bias   \n",
              "2                   1     0         0      0  bias   \n",
              "3                   0     0         0      0  bias   \n",
              "4                   0     0         0      0  bias   \n",
              "\n",
              "                                             content  spam_score_fector  \\\n",
              "0  Print They should pay all the back all the mon...           0.993337   \n",
              "1  Why Did Attorney General Loretta Lynch Plead T...           0.824470   \n",
              "2  Red State : \\r\\nFox News Sunday reported this ...           0.998415   \n",
              "3  Email Kayla Mueller was a prisoner and torture...           0.982233   \n",
              "4  Email HEALTHCARE REFORM TO MAKE AMERICA GREAT ...           0.976653   \n",
              "\n",
              "   category_fector  \n",
              "0         business  \n",
              "1         business  \n",
              "2         business  \n",
              "3            sport  \n",
              "4         business  \n",
              "\n",
              "[5 rows x 25 columns]"
            ]
          },
          "metadata": {
            "tags": []
          },
          "execution_count": 2
        }
      ]
    },
    {
      "metadata": {
        "id": "9crY1oOL9kSd",
        "colab_type": "code",
        "outputId": "2a713190-1e0c-4c8a-c454-611453496bcc",
        "colab": {
          "base_uri": "https://localhost:8080/",
          "height": 202
        }
      },
      "cell_type": "code",
      "source": [
        "df['fake'] =  np.nan\n",
        "df['fake'] = np.where(df.type == 'news', 1,0)\n",
        "\n",
        "df.groupby(\"fake\").describe()"
      ],
      "execution_count": 0,
      "outputs": [
        {
          "output_type": "execute_result",
          "data": {
            "text/html": [
              "<div>\n",
              "<style scoped>\n",
              "    .dataframe tbody tr th:only-of-type {\n",
              "        vertical-align: middle;\n",
              "    }\n",
              "\n",
              "    .dataframe tbody tr th {\n",
              "        vertical-align: top;\n",
              "    }\n",
              "\n",
              "    .dataframe thead tr th {\n",
              "        text-align: left;\n",
              "    }\n",
              "\n",
              "    .dataframe thead tr:last-of-type th {\n",
              "        text-align: right;\n",
              "    }\n",
              "</style>\n",
              "<table border=\"1\" class=\"dataframe\">\n",
              "  <thead>\n",
              "    <tr>\n",
              "      <th></th>\n",
              "      <th colspan=\"8\" halign=\"left\">Unnamed: 0</th>\n",
              "      <th colspan=\"2\" halign=\"left\">Unnamed: 0.1</th>\n",
              "      <th>...</th>\n",
              "      <th colspan=\"2\" halign=\"left\">spam_score</th>\n",
              "      <th colspan=\"8\" halign=\"left\">spam_score_fector</th>\n",
              "    </tr>\n",
              "    <tr>\n",
              "      <th></th>\n",
              "      <th>count</th>\n",
              "      <th>mean</th>\n",
              "      <th>std</th>\n",
              "      <th>min</th>\n",
              "      <th>25%</th>\n",
              "      <th>50%</th>\n",
              "      <th>75%</th>\n",
              "      <th>max</th>\n",
              "      <th>count</th>\n",
              "      <th>mean</th>\n",
              "      <th>...</th>\n",
              "      <th>75%</th>\n",
              "      <th>max</th>\n",
              "      <th>count</th>\n",
              "      <th>mean</th>\n",
              "      <th>std</th>\n",
              "      <th>min</th>\n",
              "      <th>25%</th>\n",
              "      <th>50%</th>\n",
              "      <th>75%</th>\n",
              "      <th>max</th>\n",
              "    </tr>\n",
              "    <tr>\n",
              "      <th>fake</th>\n",
              "      <th></th>\n",
              "      <th></th>\n",
              "      <th></th>\n",
              "      <th></th>\n",
              "      <th></th>\n",
              "      <th></th>\n",
              "      <th></th>\n",
              "      <th></th>\n",
              "      <th></th>\n",
              "      <th></th>\n",
              "      <th></th>\n",
              "      <th></th>\n",
              "      <th></th>\n",
              "      <th></th>\n",
              "      <th></th>\n",
              "      <th></th>\n",
              "      <th></th>\n",
              "      <th></th>\n",
              "      <th></th>\n",
              "      <th></th>\n",
              "      <th></th>\n",
              "    </tr>\n",
              "  </thead>\n",
              "  <tbody>\n",
              "    <tr>\n",
              "      <th>0</th>\n",
              "      <td>1997.0</td>\n",
              "      <td>998.0</td>\n",
              "      <td>576.628563</td>\n",
              "      <td>0.0</td>\n",
              "      <td>499.00</td>\n",
              "      <td>998.0</td>\n",
              "      <td>1497.00</td>\n",
              "      <td>1996.0</td>\n",
              "      <td>1997.0</td>\n",
              "      <td>998.0</td>\n",
              "      <td>...</td>\n",
              "      <td>0.000</td>\n",
              "      <td>1.0</td>\n",
              "      <td>1997.0</td>\n",
              "      <td>0.961161</td>\n",
              "      <td>0.062693</td>\n",
              "      <td>0.422948</td>\n",
              "      <td>0.954687</td>\n",
              "      <td>0.986242</td>\n",
              "      <td>0.996632</td>\n",
              "      <td>0.999997</td>\n",
              "    </tr>\n",
              "    <tr>\n",
              "      <th>1</th>\n",
              "      <td>1714.0</td>\n",
              "      <td>2853.5</td>\n",
              "      <td>494.933497</td>\n",
              "      <td>1997.0</td>\n",
              "      <td>2425.25</td>\n",
              "      <td>2853.5</td>\n",
              "      <td>3281.75</td>\n",
              "      <td>3710.0</td>\n",
              "      <td>1714.0</td>\n",
              "      <td>2853.5</td>\n",
              "      <td>...</td>\n",
              "      <td>0.004</td>\n",
              "      <td>1.0</td>\n",
              "      <td>1714.0</td>\n",
              "      <td>0.841592</td>\n",
              "      <td>0.094890</td>\n",
              "      <td>0.419392</td>\n",
              "      <td>0.802866</td>\n",
              "      <td>0.866053</td>\n",
              "      <td>0.901409</td>\n",
              "      <td>0.995544</td>\n",
              "    </tr>\n",
              "  </tbody>\n",
              "</table>\n",
              "<p>2 rows × 88 columns</p>\n",
              "</div>"
            ],
            "text/plain": [
              "     Unnamed: 0                                                                \\\n",
              "          count    mean         std     min      25%     50%      75%     max   \n",
              "fake                                                                            \n",
              "0        1997.0   998.0  576.628563     0.0   499.00   998.0  1497.00  1996.0   \n",
              "1        1714.0  2853.5  494.933497  1997.0  2425.25  2853.5  3281.75  3710.0   \n",
              "\n",
              "     Unnamed: 0.1            ...    spam_score      spam_score_fector  \\\n",
              "            count    mean    ...           75%  max             count   \n",
              "fake                         ...                                        \n",
              "0          1997.0   998.0    ...         0.000  1.0            1997.0   \n",
              "1          1714.0  2853.5    ...         0.004  1.0            1714.0   \n",
              "\n",
              "                                                                            \n",
              "          mean       std       min       25%       50%       75%       max  \n",
              "fake                                                                        \n",
              "0     0.961161  0.062693  0.422948  0.954687  0.986242  0.996632  0.999997  \n",
              "1     0.841592  0.094890  0.419392  0.802866  0.866053  0.901409  0.995544  \n",
              "\n",
              "[2 rows x 88 columns]"
            ]
          },
          "metadata": {
            "tags": []
          },
          "execution_count": 5
        }
      ]
    },
    {
      "metadata": {
        "id": "-wph04Vn2jjy",
        "colab_type": "code",
        "colab": {}
      },
      "cell_type": "code",
      "source": [
        "##if title is empty then use first 50 chars of the article.\n",
        "df['title'] = np.where(df.title.isnull() == True, df.text.str[:50],df.title )"
      ],
      "execution_count": 0,
      "outputs": []
    },
    {
      "metadata": {
        "id": "xdsczsNV53VL",
        "colab_type": "code",
        "outputId": "8fb1602f-2338-4f53-f4e4-fce6273236f2",
        "colab": {
          "base_uri": "https://localhost:8080/",
          "height": 661
        }
      },
      "cell_type": "code",
      "source": [
        "df1 = df[df.isnull().any(axis=1)]\n",
        "\n",
        "df1.head()"
      ],
      "execution_count": 0,
      "outputs": [
        {
          "output_type": "execute_result",
          "data": {
            "text/html": [
              "<div>\n",
              "<style scoped>\n",
              "    .dataframe tbody tr th:only-of-type {\n",
              "        vertical-align: middle;\n",
              "    }\n",
              "\n",
              "    .dataframe tbody tr th {\n",
              "        vertical-align: top;\n",
              "    }\n",
              "\n",
              "    .dataframe thead th {\n",
              "        text-align: right;\n",
              "    }\n",
              "</style>\n",
              "<table border=\"1\" class=\"dataframe\">\n",
              "  <thead>\n",
              "    <tr style=\"text-align: right;\">\n",
              "      <th></th>\n",
              "      <th>Unnamed: 0</th>\n",
              "      <th>Unnamed: 0.1</th>\n",
              "      <th>uuid</th>\n",
              "      <th>ord_in_thread</th>\n",
              "      <th>author</th>\n",
              "      <th>published</th>\n",
              "      <th>title</th>\n",
              "      <th>text</th>\n",
              "      <th>language</th>\n",
              "      <th>crawled</th>\n",
              "      <th>...</th>\n",
              "      <th>replies_count</th>\n",
              "      <th>participants_count</th>\n",
              "      <th>likes</th>\n",
              "      <th>comments</th>\n",
              "      <th>shares</th>\n",
              "      <th>type</th>\n",
              "      <th>content</th>\n",
              "      <th>spam_score_fector</th>\n",
              "      <th>category_fector</th>\n",
              "      <th>fake</th>\n",
              "    </tr>\n",
              "  </thead>\n",
              "  <tbody>\n",
              "    <tr>\n",
              "      <th>10</th>\n",
              "      <td>10</td>\n",
              "      <td>10</td>\n",
              "      <td>4d3faf17519cfa46ca754ab8068428818dbb2bf3</td>\n",
              "      <td>0</td>\n",
              "      <td>EdJenner</td>\n",
              "      <td>2016-11-07T22:34:36.822+02:00</td>\n",
              "      <td>YIKES! HILLARY GOES OFF THE RAILS‚Ä¶Pulls A Ho...</td>\n",
              "      <td></td>\n",
              "      <td>english</td>\n",
              "      <td>2016-11-07T22:34:36.822+02:00</td>\n",
              "      <td>...</td>\n",
              "      <td>0</td>\n",
              "      <td>1</td>\n",
              "      <td>0</td>\n",
              "      <td>0</td>\n",
              "      <td>0</td>\n",
              "      <td>bias</td>\n",
              "      <td>NaN</td>\n",
              "      <td>0.866053</td>\n",
              "      <td>sport</td>\n",
              "      <td>0</td>\n",
              "    </tr>\n",
              "    <tr>\n",
              "      <th>59</th>\n",
              "      <td>59</td>\n",
              "      <td>59</td>\n",
              "      <td>b9af57aaf67e5894ea9cee78d8f646aecaa0ebd9</td>\n",
              "      <td>0</td>\n",
              "      <td>tokyowashi (noreply@blogger.com)</td>\n",
              "      <td>2016-10-27T06:14:00.000+03:00</td>\n",
              "      <td>#2816: Clinton Pride‚Äôs 8(a) Pig Farm Bridge ...</td>\n",
              "      <td>United States Marine Field McConnell  Plum Cit...</td>\n",
              "      <td>english</td>\n",
              "      <td>2016-10-27T07:37:58.775+03:00</td>\n",
              "      <td>...</td>\n",
              "      <td>5</td>\n",
              "      <td>1</td>\n",
              "      <td>0</td>\n",
              "      <td>0</td>\n",
              "      <td>0</td>\n",
              "      <td>bs</td>\n",
              "      <td>United States Marine Field McConnell  Plum Cit...</td>\n",
              "      <td>0.998387</td>\n",
              "      <td>tech</td>\n",
              "      <td>0</td>\n",
              "    </tr>\n",
              "    <tr>\n",
              "      <th>60</th>\n",
              "      <td>60</td>\n",
              "      <td>60</td>\n",
              "      <td>03905a0f06cb711190aad3934af253a0e1c00a83</td>\n",
              "      <td>1</td>\n",
              "      <td>Anonymous</td>\n",
              "      <td>2016-10-26T23:12:00.000+03:00</td>\n",
              "      <td>So ,you have Rothschild banksters and British ...</td>\n",
              "      <td>So ,you have Rothschild banksters and British ...</td>\n",
              "      <td>english</td>\n",
              "      <td>2016-10-27T07:37:58.893+03:00</td>\n",
              "      <td>...</td>\n",
              "      <td>5</td>\n",
              "      <td>1</td>\n",
              "      <td>0</td>\n",
              "      <td>0</td>\n",
              "      <td>0</td>\n",
              "      <td>bs</td>\n",
              "      <td>So ,you have Rothschild banksters and British ...</td>\n",
              "      <td>0.926465</td>\n",
              "      <td>business</td>\n",
              "      <td>0</td>\n",
              "    </tr>\n",
              "    <tr>\n",
              "      <th>61</th>\n",
              "      <td>61</td>\n",
              "      <td>61</td>\n",
              "      <td>42c16d3818e64ff4632409cafd309c22df530ac1</td>\n",
              "      <td>2</td>\n",
              "      <td>Anonymous</td>\n",
              "      <td>2016-10-26T22:48:00.000+03:00</td>\n",
              "      <td>Here is the problem . The USA constitution sta...</td>\n",
              "      <td>Here is the problem . The USA constitution sta...</td>\n",
              "      <td>english</td>\n",
              "      <td>2016-10-27T07:37:58.902+03:00</td>\n",
              "      <td>...</td>\n",
              "      <td>5</td>\n",
              "      <td>1</td>\n",
              "      <td>0</td>\n",
              "      <td>0</td>\n",
              "      <td>0</td>\n",
              "      <td>bs</td>\n",
              "      <td>Here is the problem . The USA constitution sta...</td>\n",
              "      <td>0.969930</td>\n",
              "      <td>business</td>\n",
              "      <td>0</td>\n",
              "    </tr>\n",
              "    <tr>\n",
              "      <th>62</th>\n",
              "      <td>62</td>\n",
              "      <td>62</td>\n",
              "      <td>336f5dfbea5f263dbdd6ec9be9d1d94d255caa1f</td>\n",
              "      <td>3</td>\n",
              "      <td>Anonymous</td>\n",
              "      <td>2016-10-26T22:35:00.000+03:00</td>\n",
              "      <td>There is plenty of proof the machines are rigg...</td>\n",
              "      <td>There is plenty of proof the machines are rigg...</td>\n",
              "      <td>english</td>\n",
              "      <td>2016-10-27T07:37:58.915+03:00</td>\n",
              "      <td>...</td>\n",
              "      <td>5</td>\n",
              "      <td>1</td>\n",
              "      <td>0</td>\n",
              "      <td>0</td>\n",
              "      <td>0</td>\n",
              "      <td>bs</td>\n",
              "      <td>There is plenty of proof the machines are rigg...</td>\n",
              "      <td>0.985360</td>\n",
              "      <td>sport</td>\n",
              "      <td>0</td>\n",
              "    </tr>\n",
              "  </tbody>\n",
              "</table>\n",
              "<p>5 rows × 26 columns</p>\n",
              "</div>"
            ],
            "text/plain": [
              "    Unnamed: 0  Unnamed: 0.1                                      uuid  \\\n",
              "10          10            10  4d3faf17519cfa46ca754ab8068428818dbb2bf3   \n",
              "59          59            59  b9af57aaf67e5894ea9cee78d8f646aecaa0ebd9   \n",
              "60          60            60  03905a0f06cb711190aad3934af253a0e1c00a83   \n",
              "61          61            61  42c16d3818e64ff4632409cafd309c22df530ac1   \n",
              "62          62            62  336f5dfbea5f263dbdd6ec9be9d1d94d255caa1f   \n",
              "\n",
              "    ord_in_thread                            author  \\\n",
              "10              0                          EdJenner   \n",
              "59              0  tokyowashi (noreply@blogger.com)   \n",
              "60              1                         Anonymous   \n",
              "61              2                         Anonymous   \n",
              "62              3                         Anonymous   \n",
              "\n",
              "                        published  \\\n",
              "10  2016-11-07T22:34:36.822+02:00   \n",
              "59  2016-10-27T06:14:00.000+03:00   \n",
              "60  2016-10-26T23:12:00.000+03:00   \n",
              "61  2016-10-26T22:48:00.000+03:00   \n",
              "62  2016-10-26T22:35:00.000+03:00   \n",
              "\n",
              "                                                title  \\\n",
              "10  YIKES! HILLARY GOES OFF THE RAILS‚Ä¶Pulls A Ho...   \n",
              "59  #2816: Clinton Pride‚Äôs 8(a) Pig Farm Bridge ...   \n",
              "60  So ,you have Rothschild banksters and British ...   \n",
              "61  Here is the problem . The USA constitution sta...   \n",
              "62  There is plenty of proof the machines are rigg...   \n",
              "\n",
              "                                                 text language  \\\n",
              "10                                                     english   \n",
              "59  United States Marine Field McConnell  Plum Cit...  english   \n",
              "60  So ,you have Rothschild banksters and British ...  english   \n",
              "61  Here is the problem . The USA constitution sta...  english   \n",
              "62  There is plenty of proof the machines are rigg...  english   \n",
              "\n",
              "                          crawled  ...  replies_count participants_count  \\\n",
              "10  2016-11-07T22:34:36.822+02:00  ...              0                  1   \n",
              "59  2016-10-27T07:37:58.775+03:00  ...              5                  1   \n",
              "60  2016-10-27T07:37:58.893+03:00  ...              5                  1   \n",
              "61  2016-10-27T07:37:58.902+03:00  ...              5                  1   \n",
              "62  2016-10-27T07:37:58.915+03:00  ...              5                  1   \n",
              "\n",
              "    likes comments  shares  type  \\\n",
              "10      0        0       0  bias   \n",
              "59      0        0       0    bs   \n",
              "60      0        0       0    bs   \n",
              "61      0        0       0    bs   \n",
              "62      0        0       0    bs   \n",
              "\n",
              "                                              content  spam_score_fector  \\\n",
              "10                                                NaN           0.866053   \n",
              "59  United States Marine Field McConnell  Plum Cit...           0.998387   \n",
              "60  So ,you have Rothschild banksters and British ...           0.926465   \n",
              "61  Here is the problem . The USA constitution sta...           0.969930   \n",
              "62  There is plenty of proof the machines are rigg...           0.985360   \n",
              "\n",
              "    category_fector  fake  \n",
              "10            sport     0  \n",
              "59             tech     0  \n",
              "60         business     0  \n",
              "61         business     0  \n",
              "62            sport     0  \n",
              "\n",
              "[5 rows x 26 columns]"
            ]
          },
          "metadata": {
            "tags": []
          },
          "execution_count": 24
        }
      ]
    },
    {
      "metadata": {
        "id": "zM2OTxsR4TNt",
        "colab_type": "code",
        "outputId": "201556b0-739d-4d09-85a9-44123947b821",
        "colab": {
          "base_uri": "https://localhost:8080/",
          "height": 204
        }
      },
      "cell_type": "code",
      "source": [
        "new_df = df[['title', 'fake']].copy()\n",
        "new_df['length']=new_df['title'].apply(len)\n",
        "new_df['caps_ratio'] = np.nan\n",
        "new_df['question'] = np.nan\n",
        "new_df['exclamation'] = np.nan\n",
        "new_df['log_ratio'] = np.nan\n",
        "new_df['mnb_prob'] = np.nan\n",
        "new_df.head()"
      ],
      "execution_count": 0,
      "outputs": [
        {
          "output_type": "execute_result",
          "data": {
            "text/html": [
              "<div>\n",
              "<style scoped>\n",
              "    .dataframe tbody tr th:only-of-type {\n",
              "        vertical-align: middle;\n",
              "    }\n",
              "\n",
              "    .dataframe tbody tr th {\n",
              "        vertical-align: top;\n",
              "    }\n",
              "\n",
              "    .dataframe thead th {\n",
              "        text-align: right;\n",
              "    }\n",
              "</style>\n",
              "<table border=\"1\" class=\"dataframe\">\n",
              "  <thead>\n",
              "    <tr style=\"text-align: right;\">\n",
              "      <th></th>\n",
              "      <th>title</th>\n",
              "      <th>fake</th>\n",
              "      <th>length</th>\n",
              "      <th>caps_ratio</th>\n",
              "      <th>question</th>\n",
              "      <th>exclamation</th>\n",
              "      <th>log_ratio</th>\n",
              "      <th>mnb_prob</th>\n",
              "    </tr>\n",
              "  </thead>\n",
              "  <tbody>\n",
              "    <tr>\n",
              "      <th>0</th>\n",
              "      <td>Muslims BUSTED: They Stole Millions In Gov‚Äôt...</td>\n",
              "      <td>0</td>\n",
              "      <td>55</td>\n",
              "      <td>NaN</td>\n",
              "      <td>NaN</td>\n",
              "      <td>NaN</td>\n",
              "      <td>NaN</td>\n",
              "      <td>NaN</td>\n",
              "    </tr>\n",
              "    <tr>\n",
              "      <th>1</th>\n",
              "      <td>Re: Why Did Attorney General Loretta Lynch Ple...</td>\n",
              "      <td>0</td>\n",
              "      <td>59</td>\n",
              "      <td>NaN</td>\n",
              "      <td>NaN</td>\n",
              "      <td>NaN</td>\n",
              "      <td>NaN</td>\n",
              "      <td>NaN</td>\n",
              "    </tr>\n",
              "    <tr>\n",
              "      <th>2</th>\n",
              "      <td>BREAKING: Weiner Cooperating With FBI On Hilla...</td>\n",
              "      <td>0</td>\n",
              "      <td>68</td>\n",
              "      <td>NaN</td>\n",
              "      <td>NaN</td>\n",
              "      <td>NaN</td>\n",
              "      <td>NaN</td>\n",
              "      <td>NaN</td>\n",
              "    </tr>\n",
              "    <tr>\n",
              "      <th>3</th>\n",
              "      <td>PIN DROP SPEECH BY FATHER OF DAUGHTER Kidnappe...</td>\n",
              "      <td>0</td>\n",
              "      <td>126</td>\n",
              "      <td>NaN</td>\n",
              "      <td>NaN</td>\n",
              "      <td>NaN</td>\n",
              "      <td>NaN</td>\n",
              "      <td>NaN</td>\n",
              "    </tr>\n",
              "    <tr>\n",
              "      <th>4</th>\n",
              "      <td>FANTASTIC! TRUMP'S 7 POINT PLAN To Reform Heal...</td>\n",
              "      <td>0</td>\n",
              "      <td>100</td>\n",
              "      <td>NaN</td>\n",
              "      <td>NaN</td>\n",
              "      <td>NaN</td>\n",
              "      <td>NaN</td>\n",
              "      <td>NaN</td>\n",
              "    </tr>\n",
              "  </tbody>\n",
              "</table>\n",
              "</div>"
            ],
            "text/plain": [
              "                                               title  fake  length  \\\n",
              "0  Muslims BUSTED: They Stole Millions In Gov‚Äôt...     0      55   \n",
              "1  Re: Why Did Attorney General Loretta Lynch Ple...     0      59   \n",
              "2  BREAKING: Weiner Cooperating With FBI On Hilla...     0      68   \n",
              "3  PIN DROP SPEECH BY FATHER OF DAUGHTER Kidnappe...     0     126   \n",
              "4  FANTASTIC! TRUMP'S 7 POINT PLAN To Reform Heal...     0     100   \n",
              "\n",
              "   caps_ratio  question  exclamation  log_ratio  mnb_prob  \n",
              "0         NaN       NaN          NaN        NaN       NaN  \n",
              "1         NaN       NaN          NaN        NaN       NaN  \n",
              "2         NaN       NaN          NaN        NaN       NaN  \n",
              "3         NaN       NaN          NaN        NaN       NaN  \n",
              "4         NaN       NaN          NaN        NaN       NaN  "
            ]
          },
          "metadata": {
            "tags": []
          },
          "execution_count": 25
        }
      ]
    },
    {
      "metadata": {
        "id": "q7K_yhIcCyel",
        "colab_type": "code",
        "outputId": "82f4e507-4530-4dc2-a4e4-27dc9e510bca",
        "colab": {
          "base_uri": "https://localhost:8080/",
          "height": 529
        }
      },
      "cell_type": "code",
      "source": [
        "##caps ratio for fake and non fake news\n",
        "cb_length = new_df[new_df['fake'] == 0]['length']\n",
        "ncb_length = new_df[new_df['fake'] == 1]['length']\n",
        "\n",
        "mp.figure(figsize=(10, 8))\n",
        "mp.title('Clickbait vs. Non-Clickbait: Title Length')\n",
        "sns.distplot(cb_length, kde = True, color = 'red')\n",
        "sns.distplot(ncb_length, kde = True, color = 'green')\n",
        "mp.xlabel('Message Length')"
      ],
      "execution_count": 0,
      "outputs": [
        {
          "output_type": "execute_result",
          "data": {
            "text/plain": [
              "Text(0.5,0,'Message Length')"
            ]
          },
          "metadata": {
            "tags": []
          },
          "execution_count": 26
        },
        {
          "output_type": "display_data",
          "data": {
            "image/png": "[encoded data removed]",
            "text/plain": [
              "<matplotlib.figure.Figure at 0x7f5a25ec8ef0>"
            ]
          },
          "metadata": {
            "tags": []
          }
        }
      ]
    },
    {
      "metadata": {
        "id": "2xFuXnM35Iht",
        "colab_type": "code",
        "colab": {}
      },
      "cell_type": "code",
      "source": [
        "def get_caps_ratio(df):\n",
        "  for i,row in df.iterrows():\n",
        "    title=row['title']\n",
        "    temp_np_title = title.strip(string.punctuation).split()\n",
        "    np_title = [word.strip(string.punctuation) for word in temp_np_title]\n",
        "    final_title = [word for word in np_title if word not in set(stopwords.words('english'))]\n",
        "    final_title = \" \".join(final_title)\n",
        "    num_caps = len([elem for elem in final_title if elem.isupper()])\n",
        "    num_words = len([elem for elem in final_title if elem == ' ']) + 1\n",
        "    ratio = num_caps / num_words\n",
        "    df.loc[i,'caps_ratio']  = ratio\n",
        "  "
      ],
      "execution_count": 0,
      "outputs": []
    },
    {
      "metadata": {
        "id": "ynvodnPn6H6l",
        "colab_type": "code",
        "colab": {}
      },
      "cell_type": "code",
      "source": [
        "get_caps_ratio(new_df)"
      ],
      "execution_count": 0,
      "outputs": []
    },
    {
      "metadata": {
        "id": "jPOtsxWU_LsF",
        "colab_type": "code",
        "outputId": "10d5ee6f-27e1-47df-9ec3-335595b77a36",
        "colab": {
          "base_uri": "https://localhost:8080/",
          "height": 204
        }
      },
      "cell_type": "code",
      "source": [
        "new_df.head()"
      ],
      "execution_count": 0,
      "outputs": [
        {
          "output_type": "execute_result",
          "data": {
            "text/html": [
              "<div>\n",
              "<style scoped>\n",
              "    .dataframe tbody tr th:only-of-type {\n",
              "        vertical-align: middle;\n",
              "    }\n",
              "\n",
              "    .dataframe tbody tr th {\n",
              "        vertical-align: top;\n",
              "    }\n",
              "\n",
              "    .dataframe thead th {\n",
              "        text-align: right;\n",
              "    }\n",
              "</style>\n",
              "<table border=\"1\" class=\"dataframe\">\n",
              "  <thead>\n",
              "    <tr style=\"text-align: right;\">\n",
              "      <th></th>\n",
              "      <th>title</th>\n",
              "      <th>fake</th>\n",
              "      <th>length</th>\n",
              "      <th>caps_ratio</th>\n",
              "      <th>question</th>\n",
              "      <th>exclamation</th>\n",
              "      <th>log_ratio</th>\n",
              "      <th>mnb_prob</th>\n",
              "    </tr>\n",
              "  </thead>\n",
              "  <tbody>\n",
              "    <tr>\n",
              "      <th>0</th>\n",
              "      <td>Muslims BUSTED: They Stole Millions In Gov‚Äôt...</td>\n",
              "      <td>0</td>\n",
              "      <td>55</td>\n",
              "      <td>1.750000</td>\n",
              "      <td>NaN</td>\n",
              "      <td>NaN</td>\n",
              "      <td>NaN</td>\n",
              "      <td>NaN</td>\n",
              "    </tr>\n",
              "    <tr>\n",
              "      <th>1</th>\n",
              "      <td>Re: Why Did Attorney General Loretta Lynch Ple...</td>\n",
              "      <td>0</td>\n",
              "      <td>59</td>\n",
              "      <td>1.000000</td>\n",
              "      <td>NaN</td>\n",
              "      <td>NaN</td>\n",
              "      <td>NaN</td>\n",
              "      <td>NaN</td>\n",
              "    </tr>\n",
              "    <tr>\n",
              "      <th>2</th>\n",
              "      <td>BREAKING: Weiner Cooperating With FBI On Hilla...</td>\n",
              "      <td>0</td>\n",
              "      <td>68</td>\n",
              "      <td>2.000000</td>\n",
              "      <td>NaN</td>\n",
              "      <td>NaN</td>\n",
              "      <td>NaN</td>\n",
              "      <td>NaN</td>\n",
              "    </tr>\n",
              "    <tr>\n",
              "      <th>3</th>\n",
              "      <td>PIN DROP SPEECH BY FATHER OF DAUGHTER Kidnappe...</td>\n",
              "      <td>0</td>\n",
              "      <td>126</td>\n",
              "      <td>2.315789</td>\n",
              "      <td>NaN</td>\n",
              "      <td>NaN</td>\n",
              "      <td>NaN</td>\n",
              "      <td>NaN</td>\n",
              "    </tr>\n",
              "    <tr>\n",
              "      <th>4</th>\n",
              "      <td>FANTASTIC! TRUMP'S 7 POINT PLAN To Reform Heal...</td>\n",
              "      <td>0</td>\n",
              "      <td>100</td>\n",
              "      <td>2.285714</td>\n",
              "      <td>NaN</td>\n",
              "      <td>NaN</td>\n",
              "      <td>NaN</td>\n",
              "      <td>NaN</td>\n",
              "    </tr>\n",
              "  </tbody>\n",
              "</table>\n",
              "</div>"
            ],
            "text/plain": [
              "                                               title  fake  length  \\\n",
              "0  Muslims BUSTED: They Stole Millions In Gov‚Äôt...     0      55   \n",
              "1  Re: Why Did Attorney General Loretta Lynch Ple...     0      59   \n",
              "2  BREAKING: Weiner Cooperating With FBI On Hilla...     0      68   \n",
              "3  PIN DROP SPEECH BY FATHER OF DAUGHTER Kidnappe...     0     126   \n",
              "4  FANTASTIC! TRUMP'S 7 POINT PLAN To Reform Heal...     0     100   \n",
              "\n",
              "   caps_ratio  question  exclamation  log_ratio  mnb_prob  \n",
              "0    1.750000       NaN          NaN        NaN       NaN  \n",
              "1    1.000000       NaN          NaN        NaN       NaN  \n",
              "2    2.000000       NaN          NaN        NaN       NaN  \n",
              "3    2.315789       NaN          NaN        NaN       NaN  \n",
              "4    2.285714       NaN          NaN        NaN       NaN  "
            ]
          },
          "metadata": {
            "tags": []
          },
          "execution_count": 29
        }
      ]
    },
    {
      "metadata": {
        "id": "VG6jgcX7b8KG",
        "colab_type": "code",
        "colab": {}
      },
      "cell_type": "code",
      "source": [
        "##caps ratio for fake and non fake news\n",
        "cb_caps = new_df[new_df['fake'] == 0]['caps_ratio']\n",
        "ncb_caps = new_df[new_df['fake'] == 1]['caps_ratio']"
      ],
      "execution_count": 0,
      "outputs": []
    },
    {
      "metadata": {
        "id": "d6X8bHLrc2jt",
        "colab_type": "code",
        "outputId": "e8b3bc4d-fa93-4c0e-f98d-59047e2fdcc4",
        "colab": {
          "base_uri": "https://localhost:8080/",
          "height": 119
        }
      },
      "cell_type": "code",
      "source": [
        "ncb_caps.head()"
      ],
      "execution_count": 0,
      "outputs": [
        {
          "output_type": "execute_result",
          "data": {
            "text/plain": [
              "1997    1.444444\n",
              "1998    0.375000\n",
              "1999    0.444444\n",
              "2000    1.000000\n",
              "2001    1.142857\n",
              "Name: caps_ratio, dtype: float64"
            ]
          },
          "metadata": {
            "tags": []
          },
          "execution_count": 31
        }
      ]
    },
    {
      "metadata": {
        "id": "nRGYbLW0csSl",
        "colab_type": "code",
        "outputId": "05f11dcd-f6d3-4aec-d6af-a032a19c52b7",
        "colab": {
          "base_uri": "https://localhost:8080/",
          "height": 34
        }
      },
      "cell_type": "code",
      "source": [
        "ave_cb_caps = np.mean(cb_caps)\n",
        "print('The average capitalization ratio for clickbait titles is: ' + \n",
        "      str(round(ave_cb_caps, 2)))"
      ],
      "execution_count": 0,
      "outputs": [
        {
          "output_type": "stream",
          "text": [
            "The average capitalization ratio for clickbait titles is: 1.06\n"
          ],
          "name": "stdout"
        }
      ]
    },
    {
      "metadata": {
        "id": "iYfCbOXycxal",
        "colab_type": "code",
        "outputId": "632ffb4a-2920-43bf-9888-16b35f48e65a",
        "colab": {
          "base_uri": "https://localhost:8080/",
          "height": 34
        }
      },
      "cell_type": "code",
      "source": [
        "ave_ncb_caps = np.mean(ncb_caps)\n",
        "print('The average capitalization ratio for non-clickbait titles is: ' + \n",
        "      str(round(ave_ncb_caps, 2)))"
      ],
      "execution_count": 0,
      "outputs": [
        {
          "output_type": "stream",
          "text": [
            "The average capitalization ratio for non-clickbait titles is: 0.78\n"
          ],
          "name": "stdout"
        }
      ]
    },
    {
      "metadata": {
        "id": "hLuxq0QCdB2k",
        "colab_type": "code",
        "outputId": "8b3c6ed3-95f4-47ff-da09-253ca7c8cacd",
        "colab": {
          "base_uri": "https://localhost:8080/",
          "height": 529
        }
      },
      "cell_type": "code",
      "source": [
        "mp.figure(figsize=(10, 8))\n",
        "mp.title('Clickbait vs. Non-Clickbait: Capitalization Ratio')\n",
        "sns.distplot(cb_caps, kde = True, color = 'red')\n",
        "sns.distplot(ncb_caps, kde = True, color = 'green')\n",
        "mp.xlabel('Capitalization Ratio')"
      ],
      "execution_count": 0,
      "outputs": [
        {
          "output_type": "execute_result",
          "data": {
            "text/plain": [
              "Text(0.5,0,'Capitalization Ratio')"
            ]
          },
          "metadata": {
            "tags": []
          },
          "execution_count": 34
        },
        {
          "output_type": "display_data",
          "data": {
            "image/png": "[encoded data removed]",
            "text/plain": [
              "<matplotlib.figure.Figure at 0x7f5a25fa78d0>"
            ]
          },
          "metadata": {
            "tags": []
          }
        }
      ]
    },
    {
      "metadata": {
        "id": "5gDZ8_zMh0HW",
        "colab_type": "text"
      },
      "cell_type": "markdown",
      "source": [
        "Check if the tile has question mark, and calculate what %age of titles had question"
      ]
    },
    {
      "metadata": {
        "id": "kBqcxwcuh7fl",
        "colab_type": "code",
        "colab": {}
      },
      "cell_type": "code",
      "source": [
        "def get_questions(df):\n",
        "  for i,row in df.iterrows():\n",
        "    title=row['title']\n",
        "    if '?' in title:\n",
        "      df.loc[i,'question']  = 1\n",
        "    else:\n",
        "      df.loc[i,'question']  = 0"
      ],
      "execution_count": 0,
      "outputs": []
    },
    {
      "metadata": {
        "id": "-WXqPBrGiXUs",
        "colab_type": "code",
        "outputId": "a6f7fc4f-9bf9-4362-93c3-83ae9cb6312d",
        "colab": {
          "base_uri": "https://localhost:8080/",
          "height": 204
        }
      },
      "cell_type": "code",
      "source": [
        "get_questions(new_df)\n",
        "new_df.head()"
      ],
      "execution_count": 0,
      "outputs": [
        {
          "output_type": "execute_result",
          "data": {
            "text/html": [
              "<div>\n",
              "<style scoped>\n",
              "    .dataframe tbody tr th:only-of-type {\n",
              "        vertical-align: middle;\n",
              "    }\n",
              "\n",
              "    .dataframe tbody tr th {\n",
              "        vertical-align: top;\n",
              "    }\n",
              "\n",
              "    .dataframe thead th {\n",
              "        text-align: right;\n",
              "    }\n",
              "</style>\n",
              "<table border=\"1\" class=\"dataframe\">\n",
              "  <thead>\n",
              "    <tr style=\"text-align: right;\">\n",
              "      <th></th>\n",
              "      <th>title</th>\n",
              "      <th>fake</th>\n",
              "      <th>length</th>\n",
              "      <th>caps_ratio</th>\n",
              "      <th>question</th>\n",
              "      <th>exclamation</th>\n",
              "      <th>log_ratio</th>\n",
              "      <th>mnb_prob</th>\n",
              "    </tr>\n",
              "  </thead>\n",
              "  <tbody>\n",
              "    <tr>\n",
              "      <th>0</th>\n",
              "      <td>Muslims BUSTED: They Stole Millions In Gov‚Äôt...</td>\n",
              "      <td>0</td>\n",
              "      <td>55</td>\n",
              "      <td>1.750000</td>\n",
              "      <td>0.0</td>\n",
              "      <td>NaN</td>\n",
              "      <td>NaN</td>\n",
              "      <td>NaN</td>\n",
              "    </tr>\n",
              "    <tr>\n",
              "      <th>1</th>\n",
              "      <td>Re: Why Did Attorney General Loretta Lynch Ple...</td>\n",
              "      <td>0</td>\n",
              "      <td>59</td>\n",
              "      <td>1.000000</td>\n",
              "      <td>1.0</td>\n",
              "      <td>NaN</td>\n",
              "      <td>NaN</td>\n",
              "      <td>NaN</td>\n",
              "    </tr>\n",
              "    <tr>\n",
              "      <th>2</th>\n",
              "      <td>BREAKING: Weiner Cooperating With FBI On Hilla...</td>\n",
              "      <td>0</td>\n",
              "      <td>68</td>\n",
              "      <td>2.000000</td>\n",
              "      <td>0.0</td>\n",
              "      <td>NaN</td>\n",
              "      <td>NaN</td>\n",
              "      <td>NaN</td>\n",
              "    </tr>\n",
              "    <tr>\n",
              "      <th>3</th>\n",
              "      <td>PIN DROP SPEECH BY FATHER OF DAUGHTER Kidnappe...</td>\n",
              "      <td>0</td>\n",
              "      <td>126</td>\n",
              "      <td>2.315789</td>\n",
              "      <td>0.0</td>\n",
              "      <td>NaN</td>\n",
              "      <td>NaN</td>\n",
              "      <td>NaN</td>\n",
              "    </tr>\n",
              "    <tr>\n",
              "      <th>4</th>\n",
              "      <td>FANTASTIC! TRUMP'S 7 POINT PLAN To Reform Heal...</td>\n",
              "      <td>0</td>\n",
              "      <td>100</td>\n",
              "      <td>2.285714</td>\n",
              "      <td>0.0</td>\n",
              "      <td>NaN</td>\n",
              "      <td>NaN</td>\n",
              "      <td>NaN</td>\n",
              "    </tr>\n",
              "  </tbody>\n",
              "</table>\n",
              "</div>"
            ],
            "text/plain": [
              "                                               title  fake  length  \\\n",
              "0  Muslims BUSTED: They Stole Millions In Gov‚Äôt...     0      55   \n",
              "1  Re: Why Did Attorney General Loretta Lynch Ple...     0      59   \n",
              "2  BREAKING: Weiner Cooperating With FBI On Hilla...     0      68   \n",
              "3  PIN DROP SPEECH BY FATHER OF DAUGHTER Kidnappe...     0     126   \n",
              "4  FANTASTIC! TRUMP'S 7 POINT PLAN To Reform Heal...     0     100   \n",
              "\n",
              "   caps_ratio  question  exclamation  log_ratio  mnb_prob  \n",
              "0    1.750000       0.0          NaN        NaN       NaN  \n",
              "1    1.000000       1.0          NaN        NaN       NaN  \n",
              "2    2.000000       0.0          NaN        NaN       NaN  \n",
              "3    2.315789       0.0          NaN        NaN       NaN  \n",
              "4    2.285714       0.0          NaN        NaN       NaN  "
            ]
          },
          "metadata": {
            "tags": []
          },
          "execution_count": 36
        }
      ]
    },
    {
      "metadata": {
        "id": "9Nru_Ywdiyq-",
        "colab_type": "code",
        "outputId": "bfd548d5-4fb7-4fdc-9075-f39de07984bf",
        "colab": {
          "base_uri": "https://localhost:8080/",
          "height": 51
        }
      },
      "cell_type": "code",
      "source": [
        "cb_questions = new_df[new_df['fake'] == 0]['question']\n",
        "ncb_questions = new_df[new_df['fake'] == 1]['question']\n",
        "\n",
        "cb_question_percentage = sum(cb_questions)/len(cb_questions)\n",
        "print('The percentage of clickbait titles that are questions is: ' +\n",
        "     str(round(cb_question_percentage * 100, 2)) + '%')\n",
        "\n",
        "ncb_question_percentage = sum(ncb_questions)/len(ncb_questions)\n",
        "print('The percentage of non-clickbait titles that are questions is: ' +\n",
        "     str(round(ncb_question_percentage * 100, 3)) + '%')"
      ],
      "execution_count": 0,
      "outputs": [
        {
          "output_type": "stream",
          "text": [
            "The percentage of clickbait titles that are questions is: 7.41%\n",
            "The percentage of non-clickbait titles that are questions is: 8.635%\n"
          ],
          "name": "stdout"
        }
      ]
    },
    {
      "metadata": {
        "id": "cjrdxyNLjOLl",
        "colab_type": "code",
        "outputId": "3d9de03f-83d5-4407-e21d-5793016b004e",
        "colab": {
          "base_uri": "https://localhost:8080/",
          "height": 563
        }
      },
      "cell_type": "code",
      "source": [
        "mp.figure(figsize=(10, 8))\n",
        "mp.title('Clickbait vs. Non-Clickbait: Questions')\n",
        "mp.bar(\n",
        "    np.arange(2),\n",
        "    [cb_question_percentage, ncb_question_percentage],\n",
        "    align = 'center', \n",
        "    width = 0.5,\n",
        "    alpha = 0.8,\n",
        "    color = ['red', 'green']\n",
        ")\n",
        "mp.xlabel('Title')\n",
        "mp.ylabel('Percentage')\n",
        "mp.xticks(np.arange(2), ['Clickbait', 'Non-Clickbait'])"
      ],
      "execution_count": 0,
      "outputs": [
        {
          "output_type": "execute_result",
          "data": {
            "text/plain": [
              "([<matplotlib.axis.XTick at 0x7f5a25dd25f8>,\n",
              "  <matplotlib.axis.XTick at 0x7f5a233c7fd0>],\n",
              " <a list of 2 Text xticklabel objects>)"
            ]
          },
          "metadata": {
            "tags": []
          },
          "execution_count": 38
        },
        {
          "output_type": "display_data",
          "data": {
            "image/png": "[encoded data removed]",
            "text/plain": [
              "<matplotlib.figure.Figure at 0x7f5a23431860>"
            ]
          },
          "metadata": {
            "tags": []
          }
        }
      ]
    },
    {
      "metadata": {
        "id": "Xj0GnD8Tjqjl",
        "colab_type": "text"
      },
      "cell_type": "markdown",
      "source": [
        "Find the %age of articles having exclamation point"
      ]
    },
    {
      "metadata": {
        "id": "JqAKmv_cjySd",
        "colab_type": "code",
        "colab": {}
      },
      "cell_type": "code",
      "source": [
        "def get_exclamation(df):\n",
        "  for i,row in df.iterrows():\n",
        "    title=row['title']\n",
        "    if '!' in title:\n",
        "      df.loc[i,'exclamation']  = 1\n",
        "    else:\n",
        "      df.loc[i,'exclamation']  = 0"
      ],
      "execution_count": 0,
      "outputs": []
    },
    {
      "metadata": {
        "id": "crHdX1NykEte",
        "colab_type": "code",
        "outputId": "70aa5eb0-af2b-471b-e35d-4fa520a4de46",
        "colab": {
          "base_uri": "https://localhost:8080/",
          "height": 204
        }
      },
      "cell_type": "code",
      "source": [
        "get_exclamation(new_df)\n",
        "new_df.head()"
      ],
      "execution_count": 0,
      "outputs": [
        {
          "output_type": "execute_result",
          "data": {
            "text/html": [
              "<div>\n",
              "<style scoped>\n",
              "    .dataframe tbody tr th:only-of-type {\n",
              "        vertical-align: middle;\n",
              "    }\n",
              "\n",
              "    .dataframe tbody tr th {\n",
              "        vertical-align: top;\n",
              "    }\n",
              "\n",
              "    .dataframe thead th {\n",
              "        text-align: right;\n",
              "    }\n",
              "</style>\n",
              "<table border=\"1\" class=\"dataframe\">\n",
              "  <thead>\n",
              "    <tr style=\"text-align: right;\">\n",
              "      <th></th>\n",
              "      <th>title</th>\n",
              "      <th>fake</th>\n",
              "      <th>length</th>\n",
              "      <th>caps_ratio</th>\n",
              "      <th>question</th>\n",
              "      <th>exclamation</th>\n",
              "      <th>log_ratio</th>\n",
              "      <th>mnb_prob</th>\n",
              "    </tr>\n",
              "  </thead>\n",
              "  <tbody>\n",
              "    <tr>\n",
              "      <th>0</th>\n",
              "      <td>Muslims BUSTED: They Stole Millions In Gov‚Äôt...</td>\n",
              "      <td>0</td>\n",
              "      <td>55</td>\n",
              "      <td>1.750000</td>\n",
              "      <td>0.0</td>\n",
              "      <td>0.0</td>\n",
              "      <td>NaN</td>\n",
              "      <td>NaN</td>\n",
              "    </tr>\n",
              "    <tr>\n",
              "      <th>1</th>\n",
              "      <td>Re: Why Did Attorney General Loretta Lynch Ple...</td>\n",
              "      <td>0</td>\n",
              "      <td>59</td>\n",
              "      <td>1.000000</td>\n",
              "      <td>1.0</td>\n",
              "      <td>0.0</td>\n",
              "      <td>NaN</td>\n",
              "      <td>NaN</td>\n",
              "    </tr>\n",
              "    <tr>\n",
              "      <th>2</th>\n",
              "      <td>BREAKING: Weiner Cooperating With FBI On Hilla...</td>\n",
              "      <td>0</td>\n",
              "      <td>68</td>\n",
              "      <td>2.000000</td>\n",
              "      <td>0.0</td>\n",
              "      <td>0.0</td>\n",
              "      <td>NaN</td>\n",
              "      <td>NaN</td>\n",
              "    </tr>\n",
              "    <tr>\n",
              "      <th>3</th>\n",
              "      <td>PIN DROP SPEECH BY FATHER OF DAUGHTER Kidnappe...</td>\n",
              "      <td>0</td>\n",
              "      <td>126</td>\n",
              "      <td>2.315789</td>\n",
              "      <td>0.0</td>\n",
              "      <td>1.0</td>\n",
              "      <td>NaN</td>\n",
              "      <td>NaN</td>\n",
              "    </tr>\n",
              "    <tr>\n",
              "      <th>4</th>\n",
              "      <td>FANTASTIC! TRUMP'S 7 POINT PLAN To Reform Heal...</td>\n",
              "      <td>0</td>\n",
              "      <td>100</td>\n",
              "      <td>2.285714</td>\n",
              "      <td>0.0</td>\n",
              "      <td>1.0</td>\n",
              "      <td>NaN</td>\n",
              "      <td>NaN</td>\n",
              "    </tr>\n",
              "  </tbody>\n",
              "</table>\n",
              "</div>"
            ],
            "text/plain": [
              "                                               title  fake  length  \\\n",
              "0  Muslims BUSTED: They Stole Millions In Gov‚Äôt...     0      55   \n",
              "1  Re: Why Did Attorney General Loretta Lynch Ple...     0      59   \n",
              "2  BREAKING: Weiner Cooperating With FBI On Hilla...     0      68   \n",
              "3  PIN DROP SPEECH BY FATHER OF DAUGHTER Kidnappe...     0     126   \n",
              "4  FANTASTIC! TRUMP'S 7 POINT PLAN To Reform Heal...     0     100   \n",
              "\n",
              "   caps_ratio  question  exclamation  log_ratio  mnb_prob  \n",
              "0    1.750000       0.0          0.0        NaN       NaN  \n",
              "1    1.000000       1.0          0.0        NaN       NaN  \n",
              "2    2.000000       0.0          0.0        NaN       NaN  \n",
              "3    2.315789       0.0          1.0        NaN       NaN  \n",
              "4    2.285714       0.0          1.0        NaN       NaN  "
            ]
          },
          "metadata": {
            "tags": []
          },
          "execution_count": 40
        }
      ]
    },
    {
      "metadata": {
        "id": "FR_dhCTVkUEF",
        "colab_type": "code",
        "outputId": "ea1042a0-8244-4a75-b9be-5ed354f4ad0c",
        "colab": {
          "base_uri": "https://localhost:8080/",
          "height": 51
        }
      },
      "cell_type": "code",
      "source": [
        "cb_exclamation = new_df[new_df['fake'] == 0]['exclamation']\n",
        "ncb_exclamation = new_df[new_df['fake'] == 1]['exclamation']\n",
        "\n",
        "cb_exclamation_percentage = sum(cb_exclamation)/len(cb_exclamation)\n",
        "print('The percentage of clickbait titles that are exclamation is: ' +\n",
        "     str(round(cb_exclamation_percentage * 100, 2)) + '%')\n",
        "\n",
        "ncb_exclamation_percentage = sum(ncb_exclamation)/len(ncb_exclamation)\n",
        "print('The percentage of non-clickbait titles that are exclamation is: ' +\n",
        "     str(round(ncb_exclamation_percentage * 100, 3)) + '%')"
      ],
      "execution_count": 0,
      "outputs": [
        {
          "output_type": "stream",
          "text": [
            "The percentage of clickbait titles that are exclamation is: 5.16%\n",
            "The percentage of non-clickbait titles that are exclamation is: 0.933%\n"
          ],
          "name": "stdout"
        }
      ]
    },
    {
      "metadata": {
        "id": "fckdUCUSkqGt",
        "colab_type": "code",
        "outputId": "03e85cfd-30c2-4bb7-a80f-228c1cf148cc",
        "colab": {
          "base_uri": "https://localhost:8080/",
          "height": 563
        }
      },
      "cell_type": "code",
      "source": [
        "mp.figure(figsize=(10, 8))\n",
        "mp.title('Clickbait vs. Non-Clickbait: Exclamation')\n",
        "mp.bar(\n",
        "    np.arange(2),\n",
        "    [cb_exclamation_percentage, ncb_exclamation_percentage],\n",
        "    align = 'center', \n",
        "    width = 0.5,\n",
        "    alpha = 0.8,\n",
        "    color = ['red', 'green']\n",
        ")\n",
        "mp.xlabel('Title')\n",
        "mp.ylabel('Exclamation')\n",
        "mp.xticks(np.arange(2), ['Clickbait', 'Non-Clickbait'])"
      ],
      "execution_count": 0,
      "outputs": [
        {
          "output_type": "execute_result",
          "data": {
            "text/plain": [
              "([<matplotlib.axis.XTick at 0x7f5a23336f60>,\n",
              "  <matplotlib.axis.XTick at 0x7f5a2341c710>],\n",
              " <a list of 2 Text xticklabel objects>)"
            ]
          },
          "metadata": {
            "tags": []
          },
          "execution_count": 42
        },
        {
          "output_type": "display_data",
          "data": {
            "image/png": "[encoded data removed]",
            "text/plain": [
              "<matplotlib.figure.Figure at 0x7f5a25d1dba8>"
            ]
          },
          "metadata": {
            "tags": []
          }
        }
      ]
    },
    {
      "metadata": {
        "id": "bhBF0AXK4hSv",
        "colab_type": "text"
      },
      "cell_type": "markdown",
      "source": [
        "We will use TF-IDF to find the most important words in click bait titles so that we can prepare a vocabulary of the aticles that are click baits.\n",
        "\n",
        "Some of the steps to be followed are:\n",
        "\n",
        "1. Convert text to lower case letters\n",
        "2. Replace / with a space\n",
        "3. Remove stop words\n",
        "4. Remove Punctuation \n",
        "\n",
        "\n",
        "Apply TFIDF and find the most used words to create a vocabulary"
      ]
    },
    {
      "metadata": {
        "id": "W_H5LJGm65FX",
        "colab_type": "code",
        "colab": {}
      },
      "cell_type": "code",
      "source": [
        "def convert_lower(s):\n",
        "    s = s.lower()\n",
        "    return s\n",
        "\n",
        "new_df['cleaned_title'] = new_df['title'].apply(convert_lower)"
      ],
      "execution_count": 0,
      "outputs": []
    },
    {
      "metadata": {
        "id": "5SmPtxWV-kh4",
        "colab_type": "code",
        "colab": {}
      },
      "cell_type": "code",
      "source": [
        "def replace_slash(s):\n",
        "    s = s.replace(\"/\", \" \")\n",
        "    return s\n",
        "\n",
        "new_df['cleaned_title'] = new_df['cleaned_title'].apply(replace_slash)"
      ],
      "execution_count": 0,
      "outputs": []
    },
    {
      "metadata": {
        "id": "gdVwjCW92ekf",
        "colab_type": "code",
        "colab": {}
      },
      "cell_type": "code",
      "source": [
        "def remove_punctuation(s):\n",
        "    s = ''.join([i for i in s if i not in frozenset(string.punctuation)])\n",
        "    return s\n",
        "\n",
        "new_df['cleaned_title'] = new_df['cleaned_title'].apply(remove_punctuation)"
      ],
      "execution_count": 0,
      "outputs": []
    },
    {
      "metadata": {
        "id": "fd5D2xef7L1o",
        "colab_type": "code",
        "colab": {}
      },
      "cell_type": "code",
      "source": [
        "def remove_stop_words(s):\n",
        "    s = ' '.join([word for word in s.split() if word.lower() not in stopwords.words('english')])\n",
        "    return s\n",
        "\n",
        "new_df['cleaned_title'] = new_df['cleaned_title'].apply(remove_stop_words)"
      ],
      "execution_count": 0,
      "outputs": []
    },
    {
      "metadata": {
        "id": "t-Xbw9Rw6sK3",
        "colab_type": "code",
        "outputId": "ecc351bf-095b-4610-9592-1e63812e7d45",
        "colab": {
          "base_uri": "https://localhost:8080/",
          "height": 204
        }
      },
      "cell_type": "code",
      "source": [
        "new_df.head()"
      ],
      "execution_count": 0,
      "outputs": [
        {
          "output_type": "execute_result",
          "data": {
            "text/html": [
              "<div>\n",
              "<style scoped>\n",
              "    .dataframe tbody tr th:only-of-type {\n",
              "        vertical-align: middle;\n",
              "    }\n",
              "\n",
              "    .dataframe tbody tr th {\n",
              "        vertical-align: top;\n",
              "    }\n",
              "\n",
              "    .dataframe thead th {\n",
              "        text-align: right;\n",
              "    }\n",
              "</style>\n",
              "<table border=\"1\" class=\"dataframe\">\n",
              "  <thead>\n",
              "    <tr style=\"text-align: right;\">\n",
              "      <th></th>\n",
              "      <th>title</th>\n",
              "      <th>fake</th>\n",
              "      <th>length</th>\n",
              "      <th>caps_ratio</th>\n",
              "      <th>question</th>\n",
              "      <th>exclamation</th>\n",
              "      <th>log_ratio</th>\n",
              "      <th>mnb_prob</th>\n",
              "      <th>cleaned_title</th>\n",
              "    </tr>\n",
              "  </thead>\n",
              "  <tbody>\n",
              "    <tr>\n",
              "      <th>0</th>\n",
              "      <td>Muslims BUSTED: They Stole Millions In Gov‚Äôt...</td>\n",
              "      <td>0</td>\n",
              "      <td>55</td>\n",
              "      <td>1.750000</td>\n",
              "      <td>0.0</td>\n",
              "      <td>0.0</td>\n",
              "      <td>NaN</td>\n",
              "      <td>NaN</td>\n",
              "      <td>muslims busted stole millions gov‚äôt benefits</td>\n",
              "    </tr>\n",
              "    <tr>\n",
              "      <th>1</th>\n",
              "      <td>Re: Why Did Attorney General Loretta Lynch Ple...</td>\n",
              "      <td>0</td>\n",
              "      <td>59</td>\n",
              "      <td>1.000000</td>\n",
              "      <td>1.0</td>\n",
              "      <td>0.0</td>\n",
              "      <td>NaN</td>\n",
              "      <td>NaN</td>\n",
              "      <td>attorney general loretta lynch plead fifth</td>\n",
              "    </tr>\n",
              "    <tr>\n",
              "      <th>2</th>\n",
              "      <td>BREAKING: Weiner Cooperating With FBI On Hilla...</td>\n",
              "      <td>0</td>\n",
              "      <td>68</td>\n",
              "      <td>2.000000</td>\n",
              "      <td>0.0</td>\n",
              "      <td>0.0</td>\n",
              "      <td>NaN</td>\n",
              "      <td>NaN</td>\n",
              "      <td>breaking weiner cooperating fbi hillary email ...</td>\n",
              "    </tr>\n",
              "    <tr>\n",
              "      <th>3</th>\n",
              "      <td>PIN DROP SPEECH BY FATHER OF DAUGHTER Kidnappe...</td>\n",
              "      <td>0</td>\n",
              "      <td>126</td>\n",
              "      <td>2.315789</td>\n",
              "      <td>0.0</td>\n",
              "      <td>1.0</td>\n",
              "      <td>NaN</td>\n",
              "      <td>NaN</td>\n",
              "      <td>pin drop speech father daughter kidnapped kill...</td>\n",
              "    </tr>\n",
              "    <tr>\n",
              "      <th>4</th>\n",
              "      <td>FANTASTIC! TRUMP'S 7 POINT PLAN To Reform Heal...</td>\n",
              "      <td>0</td>\n",
              "      <td>100</td>\n",
              "      <td>2.285714</td>\n",
              "      <td>0.0</td>\n",
              "      <td>1.0</td>\n",
              "      <td>NaN</td>\n",
              "      <td>NaN</td>\n",
              "      <td>fantastic trumps 7 point plan reform healthcar...</td>\n",
              "    </tr>\n",
              "  </tbody>\n",
              "</table>\n",
              "</div>"
            ],
            "text/plain": [
              "                                               title  fake  length  \\\n",
              "0  Muslims BUSTED: They Stole Millions In Gov‚Äôt...     0      55   \n",
              "1  Re: Why Did Attorney General Loretta Lynch Ple...     0      59   \n",
              "2  BREAKING: Weiner Cooperating With FBI On Hilla...     0      68   \n",
              "3  PIN DROP SPEECH BY FATHER OF DAUGHTER Kidnappe...     0     126   \n",
              "4  FANTASTIC! TRUMP'S 7 POINT PLAN To Reform Heal...     0     100   \n",
              "\n",
              "   caps_ratio  question  exclamation  log_ratio  mnb_prob  \\\n",
              "0    1.750000       0.0          0.0        NaN       NaN   \n",
              "1    1.000000       1.0          0.0        NaN       NaN   \n",
              "2    2.000000       0.0          0.0        NaN       NaN   \n",
              "3    2.315789       0.0          1.0        NaN       NaN   \n",
              "4    2.285714       0.0          1.0        NaN       NaN   \n",
              "\n",
              "                                       cleaned_title  \n",
              "0     muslims busted stole millions gov‚äôt benefits  \n",
              "1         attorney general loretta lynch plead fifth  \n",
              "2  breaking weiner cooperating fbi hillary email ...  \n",
              "3  pin drop speech father daughter kidnapped kill...  \n",
              "4  fantastic trumps 7 point plan reform healthcar...  "
            ]
          },
          "metadata": {
            "tags": []
          },
          "execution_count": 47
        }
      ]
    },
    {
      "metadata": {
        "id": "c4TciuM5BWyP",
        "colab_type": "text"
      },
      "cell_type": "markdown",
      "source": [
        "We will get the top 50 words used in fake news or click-baits"
      ]
    },
    {
      "metadata": {
        "id": "PYaVEbeXBU7H",
        "colab_type": "code",
        "outputId": "28857fb9-05a1-42f2-8cce-a1d993cb4a43",
        "colab": {
          "base_uri": "https://localhost:8080/",
          "height": 204
        }
      },
      "cell_type": "code",
      "source": [
        "fake_news = new_df.loc[df['fake'] == 0]\n",
        "fake_news.head()"
      ],
      "execution_count": 0,
      "outputs": [
        {
          "output_type": "execute_result",
          "data": {
            "text/html": [
              "<div>\n",
              "<style scoped>\n",
              "    .dataframe tbody tr th:only-of-type {\n",
              "        vertical-align: middle;\n",
              "    }\n",
              "\n",
              "    .dataframe tbody tr th {\n",
              "        vertical-align: top;\n",
              "    }\n",
              "\n",
              "    .dataframe thead th {\n",
              "        text-align: right;\n",
              "    }\n",
              "</style>\n",
              "<table border=\"1\" class=\"dataframe\">\n",
              "  <thead>\n",
              "    <tr style=\"text-align: right;\">\n",
              "      <th></th>\n",
              "      <th>title</th>\n",
              "      <th>fake</th>\n",
              "      <th>length</th>\n",
              "      <th>caps_ratio</th>\n",
              "      <th>question</th>\n",
              "      <th>exclamation</th>\n",
              "      <th>log_ratio</th>\n",
              "      <th>mnb_prob</th>\n",
              "      <th>cleaned_title</th>\n",
              "    </tr>\n",
              "  </thead>\n",
              "  <tbody>\n",
              "    <tr>\n",
              "      <th>0</th>\n",
              "      <td>Muslims BUSTED: They Stole Millions In Gov‚Äôt...</td>\n",
              "      <td>0</td>\n",
              "      <td>55</td>\n",
              "      <td>1.750000</td>\n",
              "      <td>0.0</td>\n",
              "      <td>0.0</td>\n",
              "      <td>NaN</td>\n",
              "      <td>NaN</td>\n",
              "      <td>muslims busted stole millions gov‚äôt benefits</td>\n",
              "    </tr>\n",
              "    <tr>\n",
              "      <th>1</th>\n",
              "      <td>Re: Why Did Attorney General Loretta Lynch Ple...</td>\n",
              "      <td>0</td>\n",
              "      <td>59</td>\n",
              "      <td>1.000000</td>\n",
              "      <td>1.0</td>\n",
              "      <td>0.0</td>\n",
              "      <td>NaN</td>\n",
              "      <td>NaN</td>\n",
              "      <td>attorney general loretta lynch plead fifth</td>\n",
              "    </tr>\n",
              "    <tr>\n",
              "      <th>2</th>\n",
              "      <td>BREAKING: Weiner Cooperating With FBI On Hilla...</td>\n",
              "      <td>0</td>\n",
              "      <td>68</td>\n",
              "      <td>2.000000</td>\n",
              "      <td>0.0</td>\n",
              "      <td>0.0</td>\n",
              "      <td>NaN</td>\n",
              "      <td>NaN</td>\n",
              "      <td>breaking weiner cooperating fbi hillary email ...</td>\n",
              "    </tr>\n",
              "    <tr>\n",
              "      <th>3</th>\n",
              "      <td>PIN DROP SPEECH BY FATHER OF DAUGHTER Kidnappe...</td>\n",
              "      <td>0</td>\n",
              "      <td>126</td>\n",
              "      <td>2.315789</td>\n",
              "      <td>0.0</td>\n",
              "      <td>1.0</td>\n",
              "      <td>NaN</td>\n",
              "      <td>NaN</td>\n",
              "      <td>pin drop speech father daughter kidnapped kill...</td>\n",
              "    </tr>\n",
              "    <tr>\n",
              "      <th>4</th>\n",
              "      <td>FANTASTIC! TRUMP'S 7 POINT PLAN To Reform Heal...</td>\n",
              "      <td>0</td>\n",
              "      <td>100</td>\n",
              "      <td>2.285714</td>\n",
              "      <td>0.0</td>\n",
              "      <td>1.0</td>\n",
              "      <td>NaN</td>\n",
              "      <td>NaN</td>\n",
              "      <td>fantastic trumps 7 point plan reform healthcar...</td>\n",
              "    </tr>\n",
              "  </tbody>\n",
              "</table>\n",
              "</div>"
            ],
            "text/plain": [
              "                                               title  fake  length  \\\n",
              "0  Muslims BUSTED: They Stole Millions In Gov‚Äôt...     0      55   \n",
              "1  Re: Why Did Attorney General Loretta Lynch Ple...     0      59   \n",
              "2  BREAKING: Weiner Cooperating With FBI On Hilla...     0      68   \n",
              "3  PIN DROP SPEECH BY FATHER OF DAUGHTER Kidnappe...     0     126   \n",
              "4  FANTASTIC! TRUMP'S 7 POINT PLAN To Reform Heal...     0     100   \n",
              "\n",
              "   caps_ratio  question  exclamation  log_ratio  mnb_prob  \\\n",
              "0    1.750000       0.0          0.0        NaN       NaN   \n",
              "1    1.000000       1.0          0.0        NaN       NaN   \n",
              "2    2.000000       0.0          0.0        NaN       NaN   \n",
              "3    2.315789       0.0          1.0        NaN       NaN   \n",
              "4    2.285714       0.0          1.0        NaN       NaN   \n",
              "\n",
              "                                       cleaned_title  \n",
              "0     muslims busted stole millions gov‚äôt benefits  \n",
              "1         attorney general loretta lynch plead fifth  \n",
              "2  breaking weiner cooperating fbi hillary email ...  \n",
              "3  pin drop speech father daughter kidnapped kill...  \n",
              "4  fantastic trumps 7 point plan reform healthcar...  "
            ]
          },
          "metadata": {
            "tags": []
          },
          "execution_count": 48
        }
      ]
    },
    {
      "metadata": {
        "id": "JVuRnVJX63lv",
        "colab_type": "code",
        "colab": {}
      },
      "cell_type": "code",
      "source": [
        "from sklearn.feature_extraction.text import TfidfVectorizer\n",
        "v = TfidfVectorizer()\n",
        "x = v.fit_transform(fake_news['cleaned_title'])"
      ],
      "execution_count": 0,
      "outputs": []
    },
    {
      "metadata": {
        "id": "Z_TAocyZPD2h",
        "colab_type": "code",
        "outputId": "244c1759-db04-42c1-cb0d-398740bb0959",
        "colab": {
          "base_uri": "https://localhost:8080/",
          "height": 1224
        }
      },
      "cell_type": "code",
      "source": [
        "##fetching the top most words used in a fake headline\n",
        "feature_array = np.array(v.get_feature_names())\n",
        "tfidf_sorting = np.argsort(x.toarray()).flatten()[::-1]\n",
        "\n",
        "n = 500\n",
        "top_n = feature_array[tfidf_sorting][:n]\n",
        "print(top_n)"
      ],
      "execution_count": 0,
      "outputs": [
        {
          "output_type": "stream",
          "text": [
            "['confronting' 'pilger' 'john' 'china' 'interview' 'fate' 'fascism'\n",
            " 'fascist' 'fascists' 'fastwalkers' 'fat' 'fatal' 'father' 'farrakhan'\n",
            " 'fault' 'faux' 'favor' 'favorable' 'favorite' 'fbi' 'fbis' 'fck'\n",
            " 'fascinating' 'farming' 'farms' 'family' 'fakery' 'fall' 'fallacy'\n",
            " 'falls' 'false' 'fame' 'familiar' 'families' 'famous' 'faith' 'fan'\n",
            " 'fans' 'fantastic' 'fantasy' 'far' 'farage' 'farm' 'farmer' 'fear'\n",
            " 'ÿüÿßÿöÿá' 'fearing' 'fearless' 'field' 'fifth' 'fifty' 'fight' 'fighter'\n",
            " 'fighters' 'fighting' 'figure' 'filed' 'files' 'filipina' 'filipino'\n",
            " 'filippino' 'fill' 'filling' 'film' 'films' 'filthy' 'final' 'fictitious'\n",
            " 'fiasco' 'fewer' 'feel' 'fears' 'fed' 'federal' 'federation' 'feds'\n",
            " 'feed' 'feedback' 'feeding' 'feeling' 'fends' 'fees' 'feet' 'fell'\n",
            " 'fellow' 'felt' 'fema' 'female' 'fence' 'fake' 'fairbanks' 'finance'\n",
            " 'failure' 'execution' 'executioners' 'executive' 'exercises' 'existence'\n",
            " 'existing' 'exit' 'exodus' 'exp' 'expansion' 'expect' 'expectation'\n",
            " 'expected' 'expel' 'expensive' 'experie' 'experience' 'experiences'\n",
            " 'expert' 'executes' 'execute' 'excuse' 'evolutions' 'everyth'\n",
            " 'everything' 'everywhere' 'evicted' 'evidence' 'evil' 'evolution'\n",
            " 'evolutiongardening' 'evp' 'exclusive' 'exadviser' 'examine' 'examined'\n",
            " 'example' 'exchange' 'exchanges' 'exclamation' 'exclude' 'experts'\n",
            " 'explained' 'explains' 'facial' 'eyes' 'eyewitness' 'f35' 'faa' 'face'\n",
            " 'facebook' 'faced' 'faces' 'facing' 'extremists' 'fact' 'faction' 'facto'\n",
            " 'factor' 'facts' 'fail' 'failed' 'failing' 'eye' 'extreme' 'explanation'\n",
            " 'expose' 'explicit' 'explode' 'explodes' 'exploding' 'exploitation'\n",
            " 'exploited' 'exploits' 'explosion' 'exposed' 'extraterrestrials'\n",
            " 'exposes' 'express' 'extended' 'extends' 'extension' 'extent' 'extract'\n",
            " 'extraordinary' 'finally' 'financial' 'everyday' 'financing' 'front'\n",
            " 'fruitloop' 'ft' 'ftw' 'fu' 'fuck' 'fucking' 'fuel' 'fuels' 'full' 'fun'\n",
            " 'fundamentalist' 'funded' 'funding' 'fundraising' 'funny' 'furious'\n",
            " 'furniture' 'futilitys' 'from' 'frogtown' 'frightening' 'free' 'franco'\n",
            " 'frankfurt' 'franklin' 'fransen' 'fraud' 'freak' 'freaks' 'freddy'\n",
            " 'freedom' 'frighten' 'freeloaders' 'freemarket' 'french' 'friday'\n",
            " 'friend' 'friendly' 'friends' 'fright' 'future' 'ga' 'gabbard' 'geist'\n",
            " 'gateway' 'gathering' 'gave' 'gay' 'gays' 'gaza' 'geeks' 'gehirn' 'gen'\n",
            " 'gate' 'general' 'generals' 'generation' 'generous' 'genetically'\n",
            " 'genocide' 'gentrification' 'georg' 'gates' 'gas' 'gaga' 'game' 'gaiman'\n",
            " 'gain' 'gains' 'gallery' 'gambia' 'gamble' 'gamblers' 'gambling' 'games'\n",
            " 'garrison' 'gang' 'gangster' 'garage' 'garages' 'garbage' 'garcia'\n",
            " 'gardening' 'garner' 'francis' 'france' 'framed' 'fleet' 'flagburning'\n",
            " 'flags' 'flashback' 'flats' 'flavor' 'flee' 'fleeing' 'flees' 'flight'\n",
            " 'fla' 'flights' 'flint' 'flipp' 'flnwo' 'floor' 'florida' 'flow'\n",
            " 'flowers' 'flag' 'fl' 'flu' 'fired' 'find' 'finding' 'finds' 'fine'\n",
            " 'finger' 'fingers' 'fire' 'firebombing' 'firefighters' 'fixer'\n",
            " 'fireplace' 'firestone' 'firing' 'first' 'fishing' 'fit' 'five'\n",
            " 'fiveyear' 'floyd' 'fluoridation' 'fox' 'forthcoming' 'forget'\n",
            " 'forgetting' 'forgive' 'forgot' 'forgotten' 'form' 'formalities' 'former'\n",
            " 'fought' 'forecasts' 'foun' 'found' 'foundation' 'founder' 'founding'\n",
            " 'foundno' 'fountains' 'four' 'foreign' 'ford' 'flush' 'foo' 'fly'\n",
            " 'flying' 'fo' 'focus' 'foia' 'foil' 'folding' 'following' 'food' 'forces'\n",
            " 'foods' 'fooled' 'foolish' 'footage' 'football' 'for' 'force' 'forced'\n",
            " 'everyone' 'every' 'everybody' 'drovers' 'doesn' 'doesnt' 'dog' 'dogging'\n",
            " 'dogs' 'doj' 'dojs' 'dollar' 'dollars' 'dolores' 'dolphin' 'domain'\n",
            " 'dominance' 'don' 'donald' 'donated' 'done' 'donna' 'donor' 'dodges'\n",
            " 'documents' 'documentary' 'district' 'disrespecting' 'disrupts'\n",
            " 'dissecting' 'dissent' 'dissidents' 'distracted' 'distraction'\n",
            " 'distributed' 'disturbance' 'documentaries' 'diversity' 'divide' 'djt'\n",
            " 'dm' 'dna' 'dnc' 'dock' 'doctors' 'donors' 'dont' 'doom' 'drive'\n",
            " 'dreamanonymous' 'dreamed' 'dreaming' 'dreams' 'dress' 'dresses' 'drills'\n",
            " 'drinking' 'drivel' 'draws' 'driven' 'drivers' 'driveway' 'driving'\n",
            " 'drone' 'drop' 'dropped' 'dropping' 'dream' 'drawn' 'doomed' 'dow' 'door'\n",
            " 'doorway' 'double' 'doubt' 'doug' 'dough' 'douma' 'dov' 'downfall' 'draw'\n",
            " 'downie' 'downwards' 'dr' 'drafts' 'dragged' 'draining' 'draintheswamp'\n",
            " 'dramatically' 'disputes' 'disputed' 'disparity' 'deviants'\n",
            " 'deteriorating' 'detroit' 'devaluation' 'devastating' 'devastation'\n",
            " 'develop' 'developed' 'developing' 'devices' 'detected' 'devils'\n",
            " 'devotes' 'dhabi' 'diabetes' 'diagnoses' 'diana' 'diar' 'dickileak'\n",
            " 'deter' 'detect' 'didn' 'designation' 'description' 'dese' 'desecrated'\n",
            " 'desensitized' 'deserve' 'deserved' 'design' 'designated' 'designed'\n",
            " 'detainee' 'designer' 'despises' 'despite' 'dessert' 'destroy'\n",
            " 'destroyed' 'destruction' 'details' 'dictates' 'didnt' 'disowns'\n",
            " 'discussing' 'disclose' 'discontent' 'discourage' 'discover' 'discovered'\n",
            " 'discoveries' 'discrimination' 'discusses']\n"
          ],
          "name": "stdout"
        }
      ]
    },
    {
      "metadata": {
        "id": "y5rGwjSdD-iQ",
        "colab_type": "text"
      },
      "cell_type": "markdown",
      "source": [
        "Now that we have the top 50 words of click bait, we will create a word vector using wordtoVec for this newly created vocabulary"
      ]
    },
    {
      "metadata": {
        "id": "Bmuj-cyyQDMH",
        "colab_type": "code",
        "colab": {}
      },
      "cell_type": "code",
      "source": [
        "import math\n",
        "\n",
        "##finding out how much probability is that the headline has any of these words\n",
        "def log_ratio(df, term_column = 'cleaned_title', clickbait_indicator = 'fake'):\n",
        "    log_ratios = []\n",
        "    cb_df = df[df[clickbait_indicator] == 0]\n",
        "    ncb_df = df[df[clickbait_indicator] == 1]\n",
        "    total_cb_corpus = len(cb_df) + 1\n",
        "    total_ncb_corpus = len(ncb_df) + 1\n",
        "    for i,row in df.iterrows():\n",
        "        term = row[term_column]\n",
        "        term_frequency_cb = (len(cb_df[cb_df[term_column] == term]) + 1)/total_cb_corpus\n",
        "        term_frequency_ncb = (len(ncb_df[ncb_df[term_column] == term]) + 1)/total_ncb_corpus\n",
        "        log_ratios = math.log2(term_frequency_cb/term_frequency_ncb)\n",
        "        df.loc[i,'log_ratio']  = log_ratios"
      ],
      "execution_count": 0,
      "outputs": []
    },
    {
      "metadata": {
        "id": "nZ_0cGtGRXgM",
        "colab_type": "code",
        "colab": {}
      },
      "cell_type": "code",
      "source": [
        "log_ratio(new_df)"
      ],
      "execution_count": 0,
      "outputs": []
    },
    {
      "metadata": {
        "id": "OfhKiX93SG8T",
        "colab_type": "code",
        "outputId": "68228b80-6b11-4fe6-fb00-e33cf921a9c5",
        "colab": {
          "base_uri": "https://localhost:8080/",
          "height": 204
        }
      },
      "cell_type": "code",
      "source": [
        "new_df.head()"
      ],
      "execution_count": 0,
      "outputs": [
        {
          "output_type": "execute_result",
          "data": {
            "text/html": [
              "<div>\n",
              "<style scoped>\n",
              "    .dataframe tbody tr th:only-of-type {\n",
              "        vertical-align: middle;\n",
              "    }\n",
              "\n",
              "    .dataframe tbody tr th {\n",
              "        vertical-align: top;\n",
              "    }\n",
              "\n",
              "    .dataframe thead th {\n",
              "        text-align: right;\n",
              "    }\n",
              "</style>\n",
              "<table border=\"1\" class=\"dataframe\">\n",
              "  <thead>\n",
              "    <tr style=\"text-align: right;\">\n",
              "      <th></th>\n",
              "      <th>title</th>\n",
              "      <th>fake</th>\n",
              "      <th>length</th>\n",
              "      <th>caps_ratio</th>\n",
              "      <th>question</th>\n",
              "      <th>exclamation</th>\n",
              "      <th>log_ratio</th>\n",
              "      <th>mnb_prob</th>\n",
              "      <th>cleaned_title</th>\n",
              "    </tr>\n",
              "  </thead>\n",
              "  <tbody>\n",
              "    <tr>\n",
              "      <th>0</th>\n",
              "      <td>Muslims BUSTED: They Stole Millions In Gov‚Äôt...</td>\n",
              "      <td>0</td>\n",
              "      <td>55</td>\n",
              "      <td>1.750000</td>\n",
              "      <td>0.0</td>\n",
              "      <td>0.0</td>\n",
              "      <td>0.779652</td>\n",
              "      <td>NaN</td>\n",
              "      <td>muslims busted stole millions gov‚äôt benefits</td>\n",
              "    </tr>\n",
              "    <tr>\n",
              "      <th>1</th>\n",
              "      <td>Re: Why Did Attorney General Loretta Lynch Ple...</td>\n",
              "      <td>0</td>\n",
              "      <td>59</td>\n",
              "      <td>1.000000</td>\n",
              "      <td>1.0</td>\n",
              "      <td>0.0</td>\n",
              "      <td>0.779652</td>\n",
              "      <td>NaN</td>\n",
              "      <td>attorney general loretta lynch plead fifth</td>\n",
              "    </tr>\n",
              "    <tr>\n",
              "      <th>2</th>\n",
              "      <td>BREAKING: Weiner Cooperating With FBI On Hilla...</td>\n",
              "      <td>0</td>\n",
              "      <td>68</td>\n",
              "      <td>2.000000</td>\n",
              "      <td>0.0</td>\n",
              "      <td>0.0</td>\n",
              "      <td>0.779652</td>\n",
              "      <td>NaN</td>\n",
              "      <td>breaking weiner cooperating fbi hillary email ...</td>\n",
              "    </tr>\n",
              "    <tr>\n",
              "      <th>3</th>\n",
              "      <td>PIN DROP SPEECH BY FATHER OF DAUGHTER Kidnappe...</td>\n",
              "      <td>0</td>\n",
              "      <td>126</td>\n",
              "      <td>2.315789</td>\n",
              "      <td>0.0</td>\n",
              "      <td>1.0</td>\n",
              "      <td>0.779652</td>\n",
              "      <td>NaN</td>\n",
              "      <td>pin drop speech father daughter kidnapped kill...</td>\n",
              "    </tr>\n",
              "    <tr>\n",
              "      <th>4</th>\n",
              "      <td>FANTASTIC! TRUMP'S 7 POINT PLAN To Reform Heal...</td>\n",
              "      <td>0</td>\n",
              "      <td>100</td>\n",
              "      <td>2.285714</td>\n",
              "      <td>0.0</td>\n",
              "      <td>1.0</td>\n",
              "      <td>0.779652</td>\n",
              "      <td>NaN</td>\n",
              "      <td>fantastic trumps 7 point plan reform healthcar...</td>\n",
              "    </tr>\n",
              "  </tbody>\n",
              "</table>\n",
              "</div>"
            ],
            "text/plain": [
              "                                               title  fake  length  \\\n",
              "0  Muslims BUSTED: They Stole Millions In Gov‚Äôt...     0      55   \n",
              "1  Re: Why Did Attorney General Loretta Lynch Ple...     0      59   \n",
              "2  BREAKING: Weiner Cooperating With FBI On Hilla...     0      68   \n",
              "3  PIN DROP SPEECH BY FATHER OF DAUGHTER Kidnappe...     0     126   \n",
              "4  FANTASTIC! TRUMP'S 7 POINT PLAN To Reform Heal...     0     100   \n",
              "\n",
              "   caps_ratio  question  exclamation  log_ratio  mnb_prob  \\\n",
              "0    1.750000       0.0          0.0   0.779652       NaN   \n",
              "1    1.000000       1.0          0.0   0.779652       NaN   \n",
              "2    2.000000       0.0          0.0   0.779652       NaN   \n",
              "3    2.315789       0.0          1.0   0.779652       NaN   \n",
              "4    2.285714       0.0          1.0   0.779652       NaN   \n",
              "\n",
              "                                       cleaned_title  \n",
              "0     muslims busted stole millions gov‚äôt benefits  \n",
              "1         attorney general loretta lynch plead fifth  \n",
              "2  breaking weiner cooperating fbi hillary email ...  \n",
              "3  pin drop speech father daughter kidnapped kill...  \n",
              "4  fantastic trumps 7 point plan reform healthcar...  "
            ]
          },
          "metadata": {
            "tags": []
          },
          "execution_count": 53
        }
      ]
    },
    {
      "metadata": {
        "id": "vj4ftLkTUijc",
        "colab_type": "code",
        "outputId": "1c549654-b468-47a8-bbbd-d49326e98470",
        "colab": {
          "base_uri": "https://localhost:8080/",
          "height": 1209
        }
      },
      "cell_type": "code",
      "source": [
        "most_likely_cb = new_df[new_df['fake'] == 1].head(20)\n",
        "least_likely_cb = new_df[new_df['fake'] == 0].head(20)\n",
        "\n",
        "mp.figure(figsize=(10, 8))\n",
        "color_scheme = []\n",
        "least_likely = ['#09C2FF'] * 20 \n",
        "most_likely = ['#004E68'] * 20\n",
        "color_scheme += least_likely\n",
        "color_scheme += most_likely\n",
        "mp.title('Clickbait vs. Non-Clickbait: Least and Most Frequent Terms')\n",
        "mp.barh(\n",
        "    np.arange(len(most_likely_cb) + len(least_likely_cb)),\n",
        "    most_likely_cb['log_ratio'].append(least_likely_cb['log_ratio']),\n",
        "    alpha = 0.8,\n",
        "    color = color_scheme\n",
        ")\n",
        "mp.xlabel('Clickbait / Non-Clickbait Log Ratio')\n",
        "mp.yticks(np.arange(40), new_df['cleaned_title'])"
      ],
      "execution_count": 0,
      "outputs": [
        {
          "output_type": "execute_result",
          "data": {
            "text/plain": [
              "([<matplotlib.axis.YTick at 0x7f5a231c4f98>,\n",
              "  <matplotlib.axis.YTick at 0x7f5a231e25f8>,\n",
              "  <matplotlib.axis.YTick at 0x7f5a2312c048>,\n",
              "  <matplotlib.axis.YTick at 0x7f5a23185be0>,\n",
              "  <matplotlib.axis.YTick at 0x7f5a230cd320>,\n",
              "  <matplotlib.axis.YTick at 0x7f5a230cda20>,\n",
              "  <matplotlib.axis.YTick at 0x7f5a230d1160>,\n",
              "  <matplotlib.axis.YTick at 0x7f5a230d1860>,\n",
              "  <matplotlib.axis.YTick at 0x7f5a230d1f60>,\n",
              "  <matplotlib.axis.YTick at 0x7f5a230d76a0>,\n",
              "  <matplotlib.axis.YTick at 0x7f5a230d7da0>,\n",
              "  <matplotlib.axis.YTick at 0x7f5a230dc4e0>,\n",
              "  <matplotlib.axis.YTick at 0x7f5a230dcbe0>,\n",
              "  <matplotlib.axis.YTick at 0x7f5a230e0320>,\n",
              "  <matplotlib.axis.YTick at 0x7f5a233b8f98>,\n",
              "  <matplotlib.axis.YTick at 0x7f5a230e0be0>,\n",
              "  <matplotlib.axis.YTick at 0x7f5a230e6320>,\n",
              "  <matplotlib.axis.YTick at 0x7f5a230e6a20>,\n",
              "  <matplotlib.axis.YTick at 0x7f5a230eb160>,\n",
              "  <matplotlib.axis.YTick at 0x7f5a230eb860>,\n",
              "  <matplotlib.axis.YTick at 0x7f5a230ebf60>,\n",
              "  <matplotlib.axis.YTick at 0x7f5a230f06a0>,\n",
              "  <matplotlib.axis.YTick at 0x7f5a230f0da0>,\n",
              "  <matplotlib.axis.YTick at 0x7f5a230f64e0>,\n",
              "  <matplotlib.axis.YTick at 0x7f5a230f6be0>,\n",
              "  <matplotlib.axis.YTick at 0x7f5a230f9320>,\n",
              "  <matplotlib.axis.YTick at 0x7f5a230f9a20>,\n",
              "  <matplotlib.axis.YTick at 0x7f5a230ff160>,\n",
              "  <matplotlib.axis.YTick at 0x7f5a230ff860>,\n",
              "  <matplotlib.axis.YTick at 0x7f5a230fff60>,\n",
              "  <matplotlib.axis.YTick at 0x7f5a231056a0>,\n",
              "  <matplotlib.axis.YTick at 0x7f5a23105da0>,\n",
              "  <matplotlib.axis.YTick at 0x7f5a2310c4e0>,\n",
              "  <matplotlib.axis.YTick at 0x7f5a2310cbe0>,\n",
              "  <matplotlib.axis.YTick at 0x7f5a23090320>,\n",
              "  <matplotlib.axis.YTick at 0x7f5a23090a20>,\n",
              "  <matplotlib.axis.YTick at 0x7f5a23094160>,\n",
              "  <matplotlib.axis.YTick at 0x7f5a23094860>,\n",
              "  <matplotlib.axis.YTick at 0x7f5a23094f60>,\n",
              "  <matplotlib.axis.YTick at 0x7f5a2309a6a0>],\n",
              " <a list of 40 Text yticklabel objects>)"
            ]
          },
          "metadata": {
            "tags": []
          },
          "execution_count": 54
        },
        {
          "output_type": "display_data",
          "data": {
            "image/png": "[encoded data removed]",
            "text/plain": [
              "<matplotlib.figure.Figure at 0x7f5a231bd3c8>"
            ]
          },
          "metadata": {
            "tags": []
          }
        }
      ]
    },
    {
      "metadata": {
        "id": "7DtN1a7oMFkZ",
        "colab_type": "text"
      },
      "cell_type": "markdown",
      "source": [
        "Learning Curve"
      ]
    },
    {
      "metadata": {
        "id": "w-LeCZgyV6hR",
        "colab_type": "code",
        "colab": {}
      },
      "cell_type": "code",
      "source": [
        ""
      ],
      "execution_count": 0,
      "outputs": []
    },
    {
      "metadata": {
        "id": "-HYxbE6WKDuo",
        "colab_type": "text"
      },
      "cell_type": "markdown",
      "source": [
        "Before even applying the features, we will see how does the classification algorithm work "
      ]
    },
    {
      "metadata": {
        "id": "B85fcqUxD9P3",
        "colab_type": "code",
        "colab": {}
      },
      "cell_type": "code",
      "source": [
        "from sklearn.cross_validation import train_test_split\n",
        "\n",
        "X_headline_text = new_df['cleaned_title']\n",
        "\n",
        "y = new_df['fake']\n",
        "\n",
        "tfidf = TfidfVectorizer(stop_words=stopwords.words('english'),ngram_range=(1,2),max_df= 0.85, min_df= 0.01)\n",
        "\n",
        "X_headline_tfidf = tfidf.fit_transform (X_headline_text).toarray()\n",
        "\n",
        "X_headline_tfidf.shape\n",
        "\n",
        "X_headline_tfidf_train, X_headline_tfidf_test, y_headline_train, y_headline_test = train_test_split(X_headline_tfidf,y, test_size = 0.2, random_state=1234)"
      ],
      "execution_count": 0,
      "outputs": []
    },
    {
      "metadata": {
        "id": "4C0o4T2wh5xA",
        "colab_type": "code",
        "colab": {}
      },
      "cell_type": "code",
      "source": [
        "from sklearn.naive_bayes import MultinomialNB\n",
        "mnb = MultinomialNB()\n",
        "mnb.fit(X_headline_tfidf_train, y_headline_train)\n",
        "\n",
        "##print(mnb.predict_proba(X_headline_tfidf_test))\n",
        "\n",
        "output1 =  mnb.predict_proba(X_headline_tfidf)\n",
        "new_df['mnb_prob'] = output1[:,0]"
      ],
      "execution_count": 0,
      "outputs": []
    },
    {
      "metadata": {
        "id": "UxMZXMNE8lcm",
        "colab_type": "code",
        "outputId": "991770b3-8786-41b8-8b02-a5df3390eddd",
        "colab": {
          "base_uri": "https://localhost:8080/",
          "height": 204
        }
      },
      "cell_type": "code",
      "source": [
        "new_df.head()"
      ],
      "execution_count": 0,
      "outputs": [
        {
          "output_type": "execute_result",
          "data": {
            "text/html": [
              "<div>\n",
              "<style scoped>\n",
              "    .dataframe tbody tr th:only-of-type {\n",
              "        vertical-align: middle;\n",
              "    }\n",
              "\n",
              "    .dataframe tbody tr th {\n",
              "        vertical-align: top;\n",
              "    }\n",
              "\n",
              "    .dataframe thead th {\n",
              "        text-align: right;\n",
              "    }\n",
              "</style>\n",
              "<table border=\"1\" class=\"dataframe\">\n",
              "  <thead>\n",
              "    <tr style=\"text-align: right;\">\n",
              "      <th></th>\n",
              "      <th>title</th>\n",
              "      <th>fake</th>\n",
              "      <th>length</th>\n",
              "      <th>caps_ratio</th>\n",
              "      <th>question</th>\n",
              "      <th>exclamation</th>\n",
              "      <th>log_ratio</th>\n",
              "      <th>mnb_prob</th>\n",
              "      <th>cleaned_title</th>\n",
              "    </tr>\n",
              "  </thead>\n",
              "  <tbody>\n",
              "    <tr>\n",
              "      <th>0</th>\n",
              "      <td>Muslims BUSTED: They Stole Millions In Gov‚Äôt...</td>\n",
              "      <td>0</td>\n",
              "      <td>55</td>\n",
              "      <td>1.750000</td>\n",
              "      <td>0.0</td>\n",
              "      <td>0.0</td>\n",
              "      <td>0.779652</td>\n",
              "      <td>0.954745</td>\n",
              "      <td>muslims busted stole millions gov‚äôt benefits</td>\n",
              "    </tr>\n",
              "    <tr>\n",
              "      <th>1</th>\n",
              "      <td>Re: Why Did Attorney General Loretta Lynch Ple...</td>\n",
              "      <td>0</td>\n",
              "      <td>59</td>\n",
              "      <td>1.000000</td>\n",
              "      <td>1.0</td>\n",
              "      <td>0.0</td>\n",
              "      <td>0.779652</td>\n",
              "      <td>0.543127</td>\n",
              "      <td>attorney general loretta lynch plead fifth</td>\n",
              "    </tr>\n",
              "    <tr>\n",
              "      <th>2</th>\n",
              "      <td>BREAKING: Weiner Cooperating With FBI On Hilla...</td>\n",
              "      <td>0</td>\n",
              "      <td>68</td>\n",
              "      <td>2.000000</td>\n",
              "      <td>0.0</td>\n",
              "      <td>0.0</td>\n",
              "      <td>0.779652</td>\n",
              "      <td>0.918650</td>\n",
              "      <td>breaking weiner cooperating fbi hillary email ...</td>\n",
              "    </tr>\n",
              "    <tr>\n",
              "      <th>3</th>\n",
              "      <td>PIN DROP SPEECH BY FATHER OF DAUGHTER Kidnappe...</td>\n",
              "      <td>0</td>\n",
              "      <td>126</td>\n",
              "      <td>2.315789</td>\n",
              "      <td>0.0</td>\n",
              "      <td>1.0</td>\n",
              "      <td>0.779652</td>\n",
              "      <td>0.878160</td>\n",
              "      <td>pin drop speech father daughter kidnapped kill...</td>\n",
              "    </tr>\n",
              "    <tr>\n",
              "      <th>4</th>\n",
              "      <td>FANTASTIC! TRUMP'S 7 POINT PLAN To Reform Heal...</td>\n",
              "      <td>0</td>\n",
              "      <td>100</td>\n",
              "      <td>2.285714</td>\n",
              "      <td>0.0</td>\n",
              "      <td>1.0</td>\n",
              "      <td>0.779652</td>\n",
              "      <td>0.543127</td>\n",
              "      <td>fantastic trumps 7 point plan reform healthcar...</td>\n",
              "    </tr>\n",
              "  </tbody>\n",
              "</table>\n",
              "</div>"
            ],
            "text/plain": [
              "                                               title  fake  length  \\\n",
              "0  Muslims BUSTED: They Stole Millions In Gov‚Äôt...     0      55   \n",
              "1  Re: Why Did Attorney General Loretta Lynch Ple...     0      59   \n",
              "2  BREAKING: Weiner Cooperating With FBI On Hilla...     0      68   \n",
              "3  PIN DROP SPEECH BY FATHER OF DAUGHTER Kidnappe...     0     126   \n",
              "4  FANTASTIC! TRUMP'S 7 POINT PLAN To Reform Heal...     0     100   \n",
              "\n",
              "   caps_ratio  question  exclamation  log_ratio  mnb_prob  \\\n",
              "0    1.750000       0.0          0.0   0.779652  0.954745   \n",
              "1    1.000000       1.0          0.0   0.779652  0.543127   \n",
              "2    2.000000       0.0          0.0   0.779652  0.918650   \n",
              "3    2.315789       0.0          1.0   0.779652  0.878160   \n",
              "4    2.285714       0.0          1.0   0.779652  0.543127   \n",
              "\n",
              "                                       cleaned_title  \n",
              "0     muslims busted stole millions gov‚äôt benefits  \n",
              "1         attorney general loretta lynch plead fifth  \n",
              "2  breaking weiner cooperating fbi hillary email ...  \n",
              "3  pin drop speech father daughter kidnapped kill...  \n",
              "4  fantastic trumps 7 point plan reform healthcar...  "
            ]
          },
          "metadata": {
            "tags": []
          },
          "execution_count": 59
        }
      ]
    },
    {
      "metadata": {
        "id": "Ka4dKVJvMLiP",
        "colab_type": "code",
        "outputId": "746c1ee6-3801-42f2-c45f-15d3eff5df03",
        "colab": {
          "base_uri": "https://localhost:8080/",
          "height": 595
        }
      },
      "cell_type": "code",
      "source": [
        "from sklearn.linear_model import LogisticRegression\n",
        "from sklearn.metrics import f1_score, accuracy_score , recall_score , precision_score\n",
        "\n",
        "lr_headline = LogisticRegression(penalty='l1')\n",
        "lr_headline.fit(X_headline_tfidf_train, y_headline_train)\n",
        "\n",
        "# get predictions for article section\n",
        "y_headline_pred = lr_headline.predict(X_headline_tfidf_test)\n",
        "y_headline_pred"
      ],
      "execution_count": 0,
      "outputs": [
        {
          "output_type": "execute_result",
          "data": {
            "text/plain": [
              "array([0, 0, 1, 1, 1, 0, 0, 1, 0, 0, 0, 1, 1, 1, 0, 0, 1, 0, 0, 1, 0, 0,\n",
              "       0, 0, 0, 1, 1, 1, 0, 1, 1, 0, 1, 0, 1, 0, 1, 1, 1, 0, 1, 0, 0, 0,\n",
              "       1, 1, 1, 1, 1, 1, 1, 0, 1, 1, 1, 1, 1, 1, 0, 0, 1, 1, 1, 1, 0, 0,\n",
              "       1, 1, 0, 0, 1, 1, 0, 1, 1, 0, 0, 0, 0, 0, 1, 1, 0, 0, 1, 0, 0, 1,\n",
              "       0, 0, 1, 0, 1, 1, 0, 0, 1, 1, 0, 0, 0, 0, 0, 1, 1, 0, 1, 1, 1, 1,\n",
              "       1, 1, 1, 0, 1, 1, 1, 1, 0, 1, 0, 0, 0, 1, 1, 0, 1, 0, 1, 0, 1, 0,\n",
              "       1, 1, 1, 1, 0, 1, 0, 0, 0, 0, 1, 1, 0, 0, 1, 1, 0, 1, 0, 1, 0, 1,\n",
              "       0, 0, 1, 1, 1, 0, 1, 1, 0, 1, 1, 1, 0, 1, 1, 1, 0, 0, 1, 1, 0, 1,\n",
              "       1, 1, 1, 1, 0, 1, 0, 1, 1, 1, 1, 0, 1, 0, 1, 1, 0, 1, 1, 1, 1, 1,\n",
              "       0, 1, 0, 1, 1, 1, 1, 1, 0, 1, 0, 1, 1, 1, 0, 1, 0, 1, 0, 1, 1, 1,\n",
              "       0, 1, 1, 1, 1, 1, 0, 1, 1, 1, 0, 1, 1, 1, 1, 1, 0, 1, 0, 0, 0, 0,\n",
              "       0, 0, 1, 1, 1, 1, 1, 1, 1, 1, 1, 1, 0, 1, 1, 1, 0, 0, 1, 0, 0, 1,\n",
              "       0, 1, 0, 1, 1, 0, 1, 0, 0, 1, 0, 1, 1, 1, 0, 0, 0, 0, 0, 0, 1, 0,\n",
              "       1, 0, 1, 1, 1, 0, 1, 0, 0, 1, 0, 1, 0, 0, 1, 0, 1, 0, 1, 1, 0, 0,\n",
              "       1, 1, 0, 0, 0, 1, 1, 0, 1, 0, 0, 0, 0, 0, 1, 1, 0, 1, 0, 0, 1, 0,\n",
              "       1, 0, 0, 1, 1, 1, 1, 0, 0, 1, 1, 1, 1, 1, 1, 0, 0, 1, 1, 1, 1, 0,\n",
              "       1, 1, 1, 0, 0, 1, 0, 1, 0, 0, 1, 1, 1, 1, 0, 1, 1, 1, 0, 1, 1, 1,\n",
              "       0, 0, 0, 0, 1, 1, 1, 1, 0, 0, 1, 0, 1, 1, 1, 1, 1, 1, 1, 1, 0, 1,\n",
              "       1, 1, 0, 0, 1, 1, 0, 1, 1, 1, 0, 1, 1, 0, 1, 0, 0, 1, 1, 1, 1, 1,\n",
              "       0, 1, 0, 0, 0, 1, 1, 1, 1, 1, 1, 1, 0, 1, 1, 1, 1, 1, 0, 1, 0, 0,\n",
              "       0, 1, 0, 1, 0, 1, 1, 0, 1, 0, 1, 0, 1, 0, 1, 0, 1, 1, 1, 1, 0, 0,\n",
              "       1, 0, 0, 1, 0, 0, 0, 1, 0, 1, 0, 1, 1, 1, 1, 1, 1, 0, 0, 0, 0, 0,\n",
              "       1, 1, 1, 1, 0, 0, 1, 0, 1, 1, 1, 1, 0, 1, 0, 1, 1, 1, 1, 1, 1, 0,\n",
              "       0, 0, 0, 0, 0, 0, 0, 1, 1, 1, 0, 1, 0, 1, 1, 1, 0, 0, 0, 1, 0, 1,\n",
              "       1, 1, 0, 0, 1, 1, 1, 1, 1, 0, 0, 0, 0, 1, 1, 1, 1, 1, 1, 1, 0, 1,\n",
              "       1, 1, 1, 1, 1, 0, 1, 1, 0, 0, 0, 1, 0, 0, 0, 0, 0, 1, 1, 1, 1, 1,\n",
              "       0, 0, 1, 1, 1, 0, 0, 0, 1, 1, 0, 1, 1, 1, 1, 1, 0, 0, 1, 0, 0, 1,\n",
              "       1, 1, 1, 0, 0, 0, 1, 1, 1, 0, 1, 1, 0, 0, 0, 0, 1, 0, 1, 0, 1, 1,\n",
              "       1, 1, 0, 0, 1, 1, 0, 1, 0, 1, 0, 1, 0, 1, 1, 1, 1, 0, 0, 0, 1, 1,\n",
              "       0, 0, 1, 0, 1, 0, 1, 1, 1, 1, 0, 1, 0, 1, 0, 1, 1, 1, 1, 0, 0, 0,\n",
              "       0, 0, 0, 0, 1, 0, 1, 1, 1, 1, 1, 1, 1, 1, 0, 0, 1, 1, 1, 1, 1, 0,\n",
              "       0, 1, 0, 1, 0, 1, 1, 0, 0, 0, 1, 0, 0, 0, 1, 1, 0, 1, 1, 0, 1, 0,\n",
              "       1, 0, 1, 1, 1, 1, 0, 1, 1, 0, 1, 0, 1, 1, 1, 1, 1, 1, 1, 1, 1, 1,\n",
              "       1, 1, 0, 1, 1, 0, 1, 1, 1, 1, 1, 1, 1, 1, 0, 1, 1])"
            ]
          },
          "metadata": {
            "tags": []
          },
          "execution_count": 60
        }
      ]
    },
    {
      "metadata": {
        "id": "S4jcDJ3gMdFg",
        "colab_type": "code",
        "outputId": "193072d0-ad43-4d93-ae60-3766f10fe390",
        "colab": {
          "base_uri": "https://localhost:8080/",
          "height": 85
        }
      },
      "cell_type": "code",
      "source": [
        "# print metrics\n",
        "print(\"Logistig Regression F1 and Accuracy Scores : \\n\")\n",
        "print ( \"F1 score {:.4}%\".format( f1_score(y_headline_test, y_headline_pred, average='macro')*100 ) )\n",
        "print ( \"Accuracy score {:.4}%\".format(accuracy_score(y_headline_test, y_headline_pred)*100) )"
      ],
      "execution_count": 0,
      "outputs": [
        {
          "output_type": "stream",
          "text": [
            "Logistig Regression F1 and Accuracy Scores : \n",
            "\n",
            "F1 score 74.02%\n",
            "Accuracy score 74.16%\n"
          ],
          "name": "stdout"
        }
      ]
    },
    {
      "metadata": {
        "id": "te0EYzEONTH3",
        "colab_type": "code",
        "outputId": "4d940024-a7bd-4a69-faa4-caa29416f4ee",
        "colab": {
          "base_uri": "https://localhost:8080/",
          "height": 85
        }
      },
      "cell_type": "code",
      "source": [
        "from sklearn.ensemble import RandomForestClassifier\n",
        "\n",
        "rcf_headline = RandomForestClassifier(n_estimators=100,n_jobs=3)\n",
        "\n",
        "rcf_headline.fit(X_headline_tfidf_train, y_headline_train)\n",
        "y_rc_headline_pred = rcf_headline.predict(X_headline_tfidf_test)\n",
        "\n",
        "\n",
        "# print metrics\n",
        "print(\"Random Forest F1 and Accuracy Scores : \\n\")\n",
        "print ( \"F1 score {:.4}%\".format( f1_score(y_headline_test, y_rc_headline_pred, average='macro')*100 ) )\n",
        "print ( \"Accuracy score {:.4}%\".format(accuracy_score(y_headline_test, y_rc_headline_pred)*100) )\n"
      ],
      "execution_count": 0,
      "outputs": [
        {
          "output_type": "stream",
          "text": [
            "Random Forest F1 and Accuracy Scores : \n",
            "\n",
            "F1 score 73.89%\n",
            "Accuracy score 74.02%\n"
          ],
          "name": "stdout"
        }
      ]
    },
    {
      "metadata": {
        "id": "ZS0VMgazNlhn",
        "colab_type": "code",
        "outputId": "1149be70-2a06-455a-a4c0-3cf995b0dcb1",
        "colab": {
          "base_uri": "https://localhost:8080/",
          "height": 139
        }
      },
      "cell_type": "code",
      "source": [
        "from xgboost import XGBClassifier\n",
        "\n",
        "xgb_headline = XGBClassifier()\n",
        "\n",
        "xgb_headline.fit(X_headline_tfidf_train, y_headline_train)\n",
        "y_xgb_headline_pred = xgb_headline.predict(X_headline_tfidf_test)\n",
        "\n",
        "y_xgb_headline_pred\n",
        "\n",
        "# print metrics\n",
        "print(\"XGBoost F1 and Accuracy Scores : \\n\")\n",
        "print ( \"F1 score {:.4}%\".format( f1_score(y_headline_test, y_xgb_headline_pred, average='macro')*100 ) )\n",
        "print ( \"Accuracy score {:.4}%\".format(accuracy_score(y_headline_test, y_xgb_headline_pred)*100) )"
      ],
      "execution_count": 0,
      "outputs": [
        {
          "output_type": "stream",
          "text": [
            "XGBoost F1 and Accuracy Scores : \n",
            "\n",
            "F1 score 73.05%\n",
            "Accuracy score 73.35%\n"
          ],
          "name": "stdout"
        },
        {
          "output_type": "stream",
          "text": [
            "/usr/local/lib/python3.6/dist-packages/sklearn/preprocessing/label.py:151: DeprecationWarning: The truth value of an empty array is ambiguous. Returning False, but in future this will result in an error. Use `array.size > 0` to check that an array is not empty.\n",
            "  if diff:\n"
          ],
          "name": "stderr"
        }
      ]
    },
    {
      "metadata": {
        "id": "ih2ufCQEN1vX",
        "colab_type": "text"
      },
      "cell_type": "markdown",
      "source": [
        "By using above algorithms, we ffound that random forest performed better than the three used.\n",
        "\n",
        "In comming week, I will add feature selection and then compare the reslt.\n"
      ]
    },
    {
      "metadata": {
        "id": "p-oEVvluW9L2",
        "colab_type": "code",
        "outputId": "acb010fc-dd02-4e8e-d975-0230c2dd401a",
        "colab": {
          "base_uri": "https://localhost:8080/",
          "height": 935
        }
      },
      "cell_type": "code",
      "source": [
        "##Let's see the correlation between all the newly added features to come up with a weighted parameter\n",
        "#shows corelation between columns in matrix form\n",
        "tc = new_df.corr()   \n",
        "# Plotting corelation\n",
        "mp.figure(figsize=(16, 16))\n",
        "sns.heatmap(tc, annot=True, linewidths=.5)"
      ],
      "execution_count": 0,
      "outputs": [
        {
          "output_type": "execute_result",
          "data": {
            "text/plain": [
              "<matplotlib.axes._subplots.AxesSubplot at 0x7f5a21400390>"
            ]
          },
          "metadata": {
            "tags": []
          },
          "execution_count": 64
        },
        {
          "output_type": "display_data",
          "data": {
            "image/png": "[encoded data removed]",
            "text/plain": [
              "<matplotlib.figure.Figure at 0x7f5a21843da0>"
            ]
          },
          "metadata": {
            "tags": []
          }
        }
      ]
    },
    {
      "metadata": {
        "id": "nyYH5N_3WXdL",
        "colab_type": "code",
        "outputId": "186b6ca4-14b9-4762-8e9f-1bc41b12248f",
        "colab": {
          "base_uri": "https://localhost:8080/",
          "height": 136
        }
      },
      "cell_type": "code",
      "source": [
        "###Now using all other feature columns we have added in the dataset\n",
        "X_train, X_test, y_train, y_test = train_test_split(\n",
        "    new_df[['caps_ratio', 'exclamation', 'question','log_ratio','mnb_prob']],\n",
        "    new_df['fake'],\n",
        "    random_state = 42,\n",
        "    test_size = 0\n",
        ")\n",
        "\n",
        "# Logistic Regression Classification\n",
        "logistic_regression = LogisticRegression()\n",
        "logistic_regression = logistic_regression.fit(X_train, y_train)\n",
        "print(logistic_regression.predict_proba(X_train))\n",
        "\n",
        "\n",
        "output1 =  logistic_regression.predict_proba(X_train)\n",
        "new_df['click_bait_score'] = output1[:,0]\n",
        "\n",
        "\n",
        "# Logistic Regression Holdout Test\n",
        "#print('The Logistic Regression classifier performed with a '+ \n",
        "#      str(sum(logistic_regression.predict(X_test) == np.array(y_test))/len(y_test) * 100) + \n",
        " #     '% accuracy on test data')\n",
        "  \n",
        "  \n",
        "  ##review - another column and consider some embeddings - combined embeddings, contect vectors, compare and contrast which performs better , add dimension of multiple embeddings "
      ],
      "execution_count": 0,
      "outputs": [
        {
          "output_type": "stream",
          "text": [
            "[[9.99951485e-01 4.85154228e-05]\n",
            " [9.97981080e-01 2.01891958e-03]\n",
            " [1.11298365e-03 9.98887016e-01]\n",
            " ...\n",
            " [9.97736580e-01 2.26342001e-03]\n",
            " [1.69600617e-03 9.98303994e-01]\n",
            " [1.66727639e-03 9.98332724e-01]]\n"
          ],
          "name": "stdout"
        }
      ]
    },
    {
      "metadata": {
        "id": "1dO_Lzm89YJX",
        "colab_type": "code",
        "outputId": "e5f7b280-904e-4187-b69b-dd4d230d611d",
        "colab": {
          "base_uri": "https://localhost:8080/",
          "height": 204
        }
      },
      "cell_type": "code",
      "source": [
        "new_df.head()"
      ],
      "execution_count": 0,
      "outputs": [
        {
          "output_type": "execute_result",
          "data": {
            "text/html": [
              "<div>\n",
              "<style scoped>\n",
              "    .dataframe tbody tr th:only-of-type {\n",
              "        vertical-align: middle;\n",
              "    }\n",
              "\n",
              "    .dataframe tbody tr th {\n",
              "        vertical-align: top;\n",
              "    }\n",
              "\n",
              "    .dataframe thead th {\n",
              "        text-align: right;\n",
              "    }\n",
              "</style>\n",
              "<table border=\"1\" class=\"dataframe\">\n",
              "  <thead>\n",
              "    <tr style=\"text-align: right;\">\n",
              "      <th></th>\n",
              "      <th>title</th>\n",
              "      <th>fake</th>\n",
              "      <th>length</th>\n",
              "      <th>caps_ratio</th>\n",
              "      <th>question</th>\n",
              "      <th>exclamation</th>\n",
              "      <th>log_ratio</th>\n",
              "      <th>mnb_prob</th>\n",
              "      <th>cleaned_title</th>\n",
              "      <th>click_bait_score</th>\n",
              "    </tr>\n",
              "  </thead>\n",
              "  <tbody>\n",
              "    <tr>\n",
              "      <th>0</th>\n",
              "      <td>Muslims BUSTED: They Stole Millions In Gov‚Äôt...</td>\n",
              "      <td>0</td>\n",
              "      <td>55</td>\n",
              "      <td>1.750000</td>\n",
              "      <td>0.0</td>\n",
              "      <td>0.0</td>\n",
              "      <td>0.779652</td>\n",
              "      <td>0.954745</td>\n",
              "      <td>muslims busted stole millions gov‚äôt benefits</td>\n",
              "      <td>0.999951</td>\n",
              "    </tr>\n",
              "    <tr>\n",
              "      <th>1</th>\n",
              "      <td>Re: Why Did Attorney General Loretta Lynch Ple...</td>\n",
              "      <td>0</td>\n",
              "      <td>59</td>\n",
              "      <td>1.000000</td>\n",
              "      <td>1.0</td>\n",
              "      <td>0.0</td>\n",
              "      <td>0.779652</td>\n",
              "      <td>0.543127</td>\n",
              "      <td>attorney general loretta lynch plead fifth</td>\n",
              "      <td>0.997981</td>\n",
              "    </tr>\n",
              "    <tr>\n",
              "      <th>2</th>\n",
              "      <td>BREAKING: Weiner Cooperating With FBI On Hilla...</td>\n",
              "      <td>0</td>\n",
              "      <td>68</td>\n",
              "      <td>2.000000</td>\n",
              "      <td>0.0</td>\n",
              "      <td>0.0</td>\n",
              "      <td>0.779652</td>\n",
              "      <td>0.918650</td>\n",
              "      <td>breaking weiner cooperating fbi hillary email ...</td>\n",
              "      <td>0.001113</td>\n",
              "    </tr>\n",
              "    <tr>\n",
              "      <th>3</th>\n",
              "      <td>PIN DROP SPEECH BY FATHER OF DAUGHTER Kidnappe...</td>\n",
              "      <td>0</td>\n",
              "      <td>126</td>\n",
              "      <td>2.315789</td>\n",
              "      <td>0.0</td>\n",
              "      <td>1.0</td>\n",
              "      <td>0.779652</td>\n",
              "      <td>0.878160</td>\n",
              "      <td>pin drop speech father daughter kidnapped kill...</td>\n",
              "      <td>0.001539</td>\n",
              "    </tr>\n",
              "    <tr>\n",
              "      <th>4</th>\n",
              "      <td>FANTASTIC! TRUMP'S 7 POINT PLAN To Reform Heal...</td>\n",
              "      <td>0</td>\n",
              "      <td>100</td>\n",
              "      <td>2.285714</td>\n",
              "      <td>0.0</td>\n",
              "      <td>1.0</td>\n",
              "      <td>0.779652</td>\n",
              "      <td>0.543127</td>\n",
              "      <td>fantastic trumps 7 point plan reform healthcar...</td>\n",
              "      <td>0.998544</td>\n",
              "    </tr>\n",
              "  </tbody>\n",
              "</table>\n",
              "</div>"
            ],
            "text/plain": [
              "                                               title  fake  length  \\\n",
              "0  Muslims BUSTED: They Stole Millions In Gov‚Äôt...     0      55   \n",
              "1  Re: Why Did Attorney General Loretta Lynch Ple...     0      59   \n",
              "2  BREAKING: Weiner Cooperating With FBI On Hilla...     0      68   \n",
              "3  PIN DROP SPEECH BY FATHER OF DAUGHTER Kidnappe...     0     126   \n",
              "4  FANTASTIC! TRUMP'S 7 POINT PLAN To Reform Heal...     0     100   \n",
              "\n",
              "   caps_ratio  question  exclamation  log_ratio  mnb_prob  \\\n",
              "0    1.750000       0.0          0.0   0.779652  0.954745   \n",
              "1    1.000000       1.0          0.0   0.779652  0.543127   \n",
              "2    2.000000       0.0          0.0   0.779652  0.918650   \n",
              "3    2.315789       0.0          1.0   0.779652  0.878160   \n",
              "4    2.285714       0.0          1.0   0.779652  0.543127   \n",
              "\n",
              "                                       cleaned_title  click_bait_score  \n",
              "0     muslims busted stole millions gov‚äôt benefits          0.999951  \n",
              "1         attorney general loretta lynch plead fifth          0.997981  \n",
              "2  breaking weiner cooperating fbi hillary email ...          0.001113  \n",
              "3  pin drop speech father daughter kidnapped kill...          0.001539  \n",
              "4  fantastic trumps 7 point plan reform healthcar...          0.998544  "
            ]
          },
          "metadata": {
            "tags": []
          },
          "execution_count": 70
        }
      ]
    },
    {
      "metadata": {
        "id": "LCwyZJ9ywb9l",
        "colab_type": "code",
        "outputId": "1c335e5a-c1a5-45c4-d549-6e5b9443e461",
        "colab": {
          "base_uri": "https://localhost:8080/",
          "height": 644
        }
      },
      "cell_type": "code",
      "source": [
        "##copy this click_bait score to the original data frame\n",
        "\n",
        "df['click_bait_score'] = new_df['click_bait_score']\n",
        "\n",
        "df.head()"
      ],
      "execution_count": 0,
      "outputs": [
        {
          "output_type": "execute_result",
          "data": {
            "text/html": [
              "<div>\n",
              "<style scoped>\n",
              "    .dataframe tbody tr th:only-of-type {\n",
              "        vertical-align: middle;\n",
              "    }\n",
              "\n",
              "    .dataframe tbody tr th {\n",
              "        vertical-align: top;\n",
              "    }\n",
              "\n",
              "    .dataframe thead th {\n",
              "        text-align: right;\n",
              "    }\n",
              "</style>\n",
              "<table border=\"1\" class=\"dataframe\">\n",
              "  <thead>\n",
              "    <tr style=\"text-align: right;\">\n",
              "      <th></th>\n",
              "      <th>Unnamed: 0</th>\n",
              "      <th>Unnamed: 0.1</th>\n",
              "      <th>uuid</th>\n",
              "      <th>ord_in_thread</th>\n",
              "      <th>author</th>\n",
              "      <th>published</th>\n",
              "      <th>title</th>\n",
              "      <th>text</th>\n",
              "      <th>language</th>\n",
              "      <th>crawled</th>\n",
              "      <th>...</th>\n",
              "      <th>participants_count</th>\n",
              "      <th>likes</th>\n",
              "      <th>comments</th>\n",
              "      <th>shares</th>\n",
              "      <th>type</th>\n",
              "      <th>content</th>\n",
              "      <th>spam_score_fector</th>\n",
              "      <th>category_fector</th>\n",
              "      <th>fake</th>\n",
              "      <th>click_bait_score</th>\n",
              "    </tr>\n",
              "  </thead>\n",
              "  <tbody>\n",
              "    <tr>\n",
              "      <th>0</th>\n",
              "      <td>0</td>\n",
              "      <td>0</td>\n",
              "      <td>6a175f46bcd24d39b3e962ad0f29936721db70db</td>\n",
              "      <td>0</td>\n",
              "      <td>Barracuda Brigade</td>\n",
              "      <td>2016-10-26T21:41:00.000+03:00</td>\n",
              "      <td>Muslims BUSTED: They Stole Millions In Gov‚Äôt...</td>\n",
              "      <td>Print They should pay all the back all the mon...</td>\n",
              "      <td>english</td>\n",
              "      <td>2016-10-27T01:49:27.168+03:00</td>\n",
              "      <td>...</td>\n",
              "      <td>1</td>\n",
              "      <td>0</td>\n",
              "      <td>0</td>\n",
              "      <td>0</td>\n",
              "      <td>bias</td>\n",
              "      <td>Print They should pay all the back all the mon...</td>\n",
              "      <td>0.993337</td>\n",
              "      <td>business</td>\n",
              "      <td>0</td>\n",
              "      <td>0.999951</td>\n",
              "    </tr>\n",
              "    <tr>\n",
              "      <th>1</th>\n",
              "      <td>1</td>\n",
              "      <td>1</td>\n",
              "      <td>2bdc29d12605ef9cf3f09f9875040a7113be5d5b</td>\n",
              "      <td>0</td>\n",
              "      <td>reasoning with facts</td>\n",
              "      <td>2016-10-29T08:47:11.259+03:00</td>\n",
              "      <td>Re: Why Did Attorney General Loretta Lynch Ple...</td>\n",
              "      <td>Why Did Attorney General Loretta Lynch Plead T...</td>\n",
              "      <td>english</td>\n",
              "      <td>2016-10-29T08:47:11.259+03:00</td>\n",
              "      <td>...</td>\n",
              "      <td>1</td>\n",
              "      <td>0</td>\n",
              "      <td>0</td>\n",
              "      <td>0</td>\n",
              "      <td>bias</td>\n",
              "      <td>Why Did Attorney General Loretta Lynch Plead T...</td>\n",
              "      <td>0.824470</td>\n",
              "      <td>business</td>\n",
              "      <td>0</td>\n",
              "      <td>0.997981</td>\n",
              "    </tr>\n",
              "    <tr>\n",
              "      <th>2</th>\n",
              "      <td>2</td>\n",
              "      <td>2</td>\n",
              "      <td>c70e149fdd53de5e61c29281100b9de0ed268bc3</td>\n",
              "      <td>0</td>\n",
              "      <td>Barracuda Brigade</td>\n",
              "      <td>2016-10-31T01:41:49.479+02:00</td>\n",
              "      <td>BREAKING: Weiner Cooperating With FBI On Hilla...</td>\n",
              "      <td>Red State : \\r\\nFox News Sunday reported this ...</td>\n",
              "      <td>english</td>\n",
              "      <td>2016-10-31T01:41:49.479+02:00</td>\n",
              "      <td>...</td>\n",
              "      <td>1</td>\n",
              "      <td>0</td>\n",
              "      <td>0</td>\n",
              "      <td>0</td>\n",
              "      <td>bias</td>\n",
              "      <td>Red State : \\r\\nFox News Sunday reported this ...</td>\n",
              "      <td>0.998415</td>\n",
              "      <td>business</td>\n",
              "      <td>0</td>\n",
              "      <td>0.001113</td>\n",
              "    </tr>\n",
              "    <tr>\n",
              "      <th>3</th>\n",
              "      <td>3</td>\n",
              "      <td>3</td>\n",
              "      <td>7cf7c15731ac2a116dd7f629bd57ea468ed70284</td>\n",
              "      <td>0</td>\n",
              "      <td>Fed Up</td>\n",
              "      <td>2016-11-01T05:22:00.000+02:00</td>\n",
              "      <td>PIN DROP SPEECH BY FATHER OF DAUGHTER Kidnappe...</td>\n",
              "      <td>Email Kayla Mueller was a prisoner and torture...</td>\n",
              "      <td>english</td>\n",
              "      <td>2016-11-01T15:46:26.304+02:00</td>\n",
              "      <td>...</td>\n",
              "      <td>0</td>\n",
              "      <td>0</td>\n",
              "      <td>0</td>\n",
              "      <td>0</td>\n",
              "      <td>bias</td>\n",
              "      <td>Email Kayla Mueller was a prisoner and torture...</td>\n",
              "      <td>0.982233</td>\n",
              "      <td>sport</td>\n",
              "      <td>0</td>\n",
              "      <td>0.001539</td>\n",
              "    </tr>\n",
              "    <tr>\n",
              "      <th>4</th>\n",
              "      <td>4</td>\n",
              "      <td>4</td>\n",
              "      <td>0206b54719c7e241ffe0ad4315b808290dbe6c0f</td>\n",
              "      <td>0</td>\n",
              "      <td>Fed Up</td>\n",
              "      <td>2016-11-01T21:56:00.000+02:00</td>\n",
              "      <td>FANTASTIC! TRUMP'S 7 POINT PLAN To Reform Heal...</td>\n",
              "      <td>Email HEALTHCARE REFORM TO MAKE AMERICA GREAT ...</td>\n",
              "      <td>english</td>\n",
              "      <td>2016-11-01T23:59:42.266+02:00</td>\n",
              "      <td>...</td>\n",
              "      <td>0</td>\n",
              "      <td>0</td>\n",
              "      <td>0</td>\n",
              "      <td>0</td>\n",
              "      <td>bias</td>\n",
              "      <td>Email HEALTHCARE REFORM TO MAKE AMERICA GREAT ...</td>\n",
              "      <td>0.976653</td>\n",
              "      <td>business</td>\n",
              "      <td>0</td>\n",
              "      <td>0.998544</td>\n",
              "    </tr>\n",
              "  </tbody>\n",
              "</table>\n",
              "<p>5 rows × 27 columns</p>\n",
              "</div>"
            ],
            "text/plain": [
              "   Unnamed: 0  Unnamed: 0.1                                      uuid  \\\n",
              "0           0             0  6a175f46bcd24d39b3e962ad0f29936721db70db   \n",
              "1           1             1  2bdc29d12605ef9cf3f09f9875040a7113be5d5b   \n",
              "2           2             2  c70e149fdd53de5e61c29281100b9de0ed268bc3   \n",
              "3           3             3  7cf7c15731ac2a116dd7f629bd57ea468ed70284   \n",
              "4           4             4  0206b54719c7e241ffe0ad4315b808290dbe6c0f   \n",
              "\n",
              "   ord_in_thread                author                      published  \\\n",
              "0              0     Barracuda Brigade  2016-10-26T21:41:00.000+03:00   \n",
              "1              0  reasoning with facts  2016-10-29T08:47:11.259+03:00   \n",
              "2              0     Barracuda Brigade  2016-10-31T01:41:49.479+02:00   \n",
              "3              0                Fed Up  2016-11-01T05:22:00.000+02:00   \n",
              "4              0                Fed Up  2016-11-01T21:56:00.000+02:00   \n",
              "\n",
              "                                               title  \\\n",
              "0  Muslims BUSTED: They Stole Millions In Gov‚Äôt...   \n",
              "1  Re: Why Did Attorney General Loretta Lynch Ple...   \n",
              "2  BREAKING: Weiner Cooperating With FBI On Hilla...   \n",
              "3  PIN DROP SPEECH BY FATHER OF DAUGHTER Kidnappe...   \n",
              "4  FANTASTIC! TRUMP'S 7 POINT PLAN To Reform Heal...   \n",
              "\n",
              "                                                text language  \\\n",
              "0  Print They should pay all the back all the mon...  english   \n",
              "1  Why Did Attorney General Loretta Lynch Plead T...  english   \n",
              "2  Red State : \\r\\nFox News Sunday reported this ...  english   \n",
              "3  Email Kayla Mueller was a prisoner and torture...  english   \n",
              "4  Email HEALTHCARE REFORM TO MAKE AMERICA GREAT ...  english   \n",
              "\n",
              "                         crawled        ...        participants_count likes  \\\n",
              "0  2016-10-27T01:49:27.168+03:00        ...                         1     0   \n",
              "1  2016-10-29T08:47:11.259+03:00        ...                         1     0   \n",
              "2  2016-10-31T01:41:49.479+02:00        ...                         1     0   \n",
              "3  2016-11-01T15:46:26.304+02:00        ...                         0     0   \n",
              "4  2016-11-01T23:59:42.266+02:00        ...                         0     0   \n",
              "\n",
              "   comments shares  type                                            content  \\\n",
              "0         0      0  bias  Print They should pay all the back all the mon...   \n",
              "1         0      0  bias  Why Did Attorney General Loretta Lynch Plead T...   \n",
              "2         0      0  bias  Red State : \\r\\nFox News Sunday reported this ...   \n",
              "3         0      0  bias  Email Kayla Mueller was a prisoner and torture...   \n",
              "4         0      0  bias  Email HEALTHCARE REFORM TO MAKE AMERICA GREAT ...   \n",
              "\n",
              "   spam_score_fector  category_fector  fake  click_bait_score  \n",
              "0           0.993337         business     0          0.999951  \n",
              "1           0.824470         business     0          0.997981  \n",
              "2           0.998415         business     0          0.001113  \n",
              "3           0.982233            sport     0          0.001539  \n",
              "4           0.976653         business     0          0.998544  \n",
              "\n",
              "[5 rows x 27 columns]"
            ]
          },
          "metadata": {
            "tags": []
          },
          "execution_count": 72
        }
      ]
    },
    {
      "metadata": {
        "id": "0or-ZG-V-JBH",
        "colab_type": "code",
        "colab": {}
      },
      "cell_type": "code",
      "source": [
        "df.to_csv('fake_real_dataset_spam_category_clickbait.csv')\n",
        "\n",
        "from google.colab import files\n",
        "files.download('fake_real_dataset_spam_category_clickbait.csv')"
      ],
      "execution_count": 0,
      "outputs": []
    }
  ]
}